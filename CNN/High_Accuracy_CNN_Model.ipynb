{
  "nbformat": 4,
  "nbformat_minor": 0,
  "metadata": {
    "colab": {
      "name": "High Accuracy CNN Model.ipynb",
      "version": "0.3.2",
      "provenance": [],
      "toc_visible": true
    },
    "language_info": {
      "codemirror_mode": {
        "name": "ipython",
        "version": 3
      },
      "file_extension": ".py",
      "mimetype": "text/x-python",
      "name": "python",
      "nbconvert_exporter": "python",
      "pygments_lexer": "ipython3",
      "version": "3.7.2"
    },
    "kernelspec": {
      "name": "python3",
      "display_name": "Python 3"
    },
    "accelerator": "GPU"
  },
  "cells": [
    {
      "cell_type": "markdown",
      "metadata": {
        "id": "bc8ijC6Ay4pb",
        "colab_type": "text"
      },
      "source": [
        "# High Accuracy CNN model"
      ]
    },
    {
      "cell_type": "markdown",
      "metadata": {
        "id": "T8C1qzM-y4pg",
        "colab_type": "text"
      },
      "source": [
        "## Import libraries"
      ]
    },
    {
      "cell_type": "code",
      "metadata": {
        "id": "okrN6-Qey4pg",
        "colab_type": "code",
        "outputId": "5371e4f7-13c2-468e-e0ae-590b4f95afde",
        "colab": {
          "base_uri": "https://localhost:8080/",
          "height": 34
        }
      },
      "source": [
        "import os\n",
        "import tensorflow\n",
        "os.environ['KERAS_BACKEND'] = 'tensorflow'\n",
        "\n",
        "import numpy as np\n",
        "import pandas as pd\n",
        "import warnings\n",
        "warnings.filterwarnings('ignore')\n",
        "\n",
        "from sklearn.model_selection import train_test_split\n",
        "from sklearn.preprocessing import StandardScaler, LabelEncoder, OneHotEncoder\n",
        "\n",
        "from keras.models import Sequential\n",
        "from keras.layers import Convolution2D, MaxPooling2D, Flatten, Dense, Dropout\n",
        "from keras.preprocessing.image import ImageDataGenerator"
      ],
      "execution_count": 0,
      "outputs": [
        {
          "output_type": "stream",
          "text": [
            "Using TensorFlow backend.\n"
          ],
          "name": "stderr"
        }
      ]
    },
    {
      "cell_type": "markdown",
      "metadata": {
        "id": "wTnZWEFzy4pl",
        "colab_type": "text"
      },
      "source": [
        "## Build CNN model"
      ]
    },
    {
      "cell_type": "code",
      "metadata": {
        "id": "oUFCiPZBy4pm",
        "colab_type": "code",
        "outputId": "2fc4e51c-5b71-4db6-9101-acbd22bdffdc",
        "colab": {
          "base_uri": "https://localhost:8080/",
          "height": 734
        }
      },
      "source": [
        "classifier = Sequential()\n",
        "classifier.add(Convolution2D(filters = 32, \n",
        "                             kernel_size = (3, 3), \n",
        "                             activation = 'relu', \n",
        "                             input_shape = (128, 128, 3),\n",
        "                             data_format='channels_last'))\n",
        "classifier.add(Convolution2D(filters = 32, kernel_size = (3, 3), activation = 'relu'))\n",
        "classifier.add(MaxPooling2D(pool_size = (2, 2)))\n",
        "classifier.add(Convolution2D(filters = 64, kernel_size = (3, 3), activation = 'relu'))\n",
        "classifier.add(Convolution2D(filters = 64, kernel_size = (3, 3), activation = 'relu'))\n",
        "classifier.add(MaxPooling2D(pool_size = (2, 2)))\n",
        "classifier.add(Convolution2D(filters = 128, kernel_size = (3, 3), activation = 'relu'))\n",
        "classifier.add(Convolution2D(filters = 128, kernel_size = (3, 3), activation = 'relu'))\n",
        "classifier.add(MaxPooling2D(pool_size = (2, 2)))\n",
        "classifier.add(Flatten())\n",
        "classifier.add(Dense(units = 128, activation = 'relu'))\n",
        "classifier.add(Dropout(rate = 0.2))\n",
        "classifier.add(Dense(units = 64, activation = 'relu'))\n",
        "classifier.add(Dense(units = 1, activation = 'sigmoid'))\n",
        "classifier.compile(optimizer = 'rmsprop', loss = 'binary_crossentropy', metrics = ['accuracy'])\n",
        "classifier.summary()"
      ],
      "execution_count": 0,
      "outputs": [
        {
          "output_type": "stream",
          "text": [
            "WARNING:tensorflow:From /usr/local/lib/python3.6/dist-packages/tensorflow/python/framework/op_def_library.py:263: colocate_with (from tensorflow.python.framework.ops) is deprecated and will be removed in a future version.\n",
            "Instructions for updating:\n",
            "Colocations handled automatically by placer.\n",
            "WARNING:tensorflow:From /usr/local/lib/python3.6/dist-packages/keras/backend/tensorflow_backend.py:3445: calling dropout (from tensorflow.python.ops.nn_ops) with keep_prob is deprecated and will be removed in a future version.\n",
            "Instructions for updating:\n",
            "Please use `rate` instead of `keep_prob`. Rate should be set to `rate = 1 - keep_prob`.\n",
            "_________________________________________________________________\n",
            "Layer (type)                 Output Shape              Param #   \n",
            "=================================================================\n",
            "conv2d_1 (Conv2D)            (None, 126, 126, 32)      896       \n",
            "_________________________________________________________________\n",
            "conv2d_2 (Conv2D)            (None, 124, 124, 32)      9248      \n",
            "_________________________________________________________________\n",
            "max_pooling2d_1 (MaxPooling2 (None, 62, 62, 32)        0         \n",
            "_________________________________________________________________\n",
            "conv2d_3 (Conv2D)            (None, 60, 60, 64)        18496     \n",
            "_________________________________________________________________\n",
            "conv2d_4 (Conv2D)            (None, 58, 58, 64)        36928     \n",
            "_________________________________________________________________\n",
            "max_pooling2d_2 (MaxPooling2 (None, 29, 29, 64)        0         \n",
            "_________________________________________________________________\n",
            "conv2d_5 (Conv2D)            (None, 27, 27, 128)       73856     \n",
            "_________________________________________________________________\n",
            "conv2d_6 (Conv2D)            (None, 25, 25, 128)       147584    \n",
            "_________________________________________________________________\n",
            "max_pooling2d_3 (MaxPooling2 (None, 12, 12, 128)       0         \n",
            "_________________________________________________________________\n",
            "flatten_1 (Flatten)          (None, 18432)             0         \n",
            "_________________________________________________________________\n",
            "dense_1 (Dense)              (None, 128)               2359424   \n",
            "_________________________________________________________________\n",
            "dropout_1 (Dropout)          (None, 128)               0         \n",
            "_________________________________________________________________\n",
            "dense_2 (Dense)              (None, 64)                8256      \n",
            "_________________________________________________________________\n",
            "dense_3 (Dense)              (None, 1)                 65        \n",
            "=================================================================\n",
            "Total params: 2,654,753\n",
            "Trainable params: 2,654,753\n",
            "Non-trainable params: 0\n",
            "_________________________________________________________________\n"
          ],
          "name": "stdout"
        }
      ]
    },
    {
      "cell_type": "markdown",
      "metadata": {
        "id": "fQr0tRyay4pp",
        "colab_type": "text"
      },
      "source": [
        "## Training the model"
      ]
    },
    {
      "cell_type": "code",
      "metadata": {
        "id": "z5EWJR7Ly4pp",
        "colab_type": "code",
        "outputId": "1eacfde6-fb29-41e3-f3d0-eb4b9f290907",
        "colab": {
          "base_uri": "https://localhost:8080/",
          "height": 68
        }
      },
      "source": [
        "train_datagen = ImageDataGenerator(rescale = 1.0/255, \n",
        "                                   shear_range = 0.2, \n",
        "                                   zoom_range = 0.2, \n",
        "                                   horizontal_flip = True, \n",
        "                                   validation_split=0.2)\n",
        "\n",
        "test_datagen = ImageDataGenerator(rescale = 1.0/255)\n",
        "\n",
        "training_set = train_datagen.flow_from_directory('data/training_set', \n",
        "                                                 target_size = (128, 128), \n",
        "                                                 batch_size = 32, \n",
        "                                                 class_mode = 'binary', \n",
        "                                                 subset = 'training')\n",
        "\n",
        "validation_set = train_datagen.flow_from_directory('data/training_set', \n",
        "                                                 target_size = (128, 128), \n",
        "                                                 batch_size = 32, \n",
        "                                                 class_mode = 'binary',\n",
        "                                                   subset = 'validation')\n",
        "\n",
        "test_set = test_datagen.flow_from_directory('data/test_set', \n",
        "                                            target_size = (128, 128), \n",
        "                                            batch_size = 32, \n",
        "                                            class_mode = 'binary')"
      ],
      "execution_count": 0,
      "outputs": [
        {
          "output_type": "stream",
          "text": [
            "Found 6400 images belonging to 2 classes.\n",
            "Found 1600 images belonging to 2 classes.\n",
            "Found 2000 images belonging to 2 classes.\n"
          ],
          "name": "stdout"
        }
      ]
    },
    {
      "cell_type": "code",
      "metadata": {
        "id": "PsBlfGc2y4ps",
        "colab_type": "code",
        "outputId": "ae95bbb9-f2f3-48d7-b42f-fcc2c27b65f4",
        "colab": {
          "base_uri": "https://localhost:8080/",
          "height": 3505
        }
      },
      "source": [
        "classifier.fit_generator(training_set,\n",
        "                         steps_per_epoch = 6400/32,\n",
        "                         epochs = 100,\n",
        "                         validation_data = validation_set,\n",
        "                         validation_steps = 1600/32,\n",
        "                         verbose = 1)"
      ],
      "execution_count": 4,
      "outputs": [
        {
          "output_type": "stream",
          "text": [
            "WARNING:tensorflow:From /usr/local/lib/python3.6/dist-packages/tensorflow/python/ops/math_ops.py:3066: to_int32 (from tensorflow.python.ops.math_ops) is deprecated and will be removed in a future version.\n",
            "Instructions for updating:\n",
            "Use tf.cast instead.\n",
            "Epoch 1/100\n",
            "200/200 [==============================] - 50s 249ms/step - loss: 0.7054 - acc: 0.5100 - val_loss: 0.6894 - val_acc: 0.5100\n",
            "Epoch 2/100\n",
            "200/200 [==============================] - 46s 228ms/step - loss: 0.7000 - acc: 0.5508 - val_loss: 0.6822 - val_acc: 0.5594\n",
            "Epoch 3/100\n",
            "200/200 [==============================] - 44s 221ms/step - loss: 0.6770 - acc: 0.5875 - val_loss: 0.6456 - val_acc: 0.6106\n",
            "Epoch 4/100\n",
            "200/200 [==============================] - 47s 233ms/step - loss: 0.6682 - acc: 0.6289 - val_loss: 0.6195 - val_acc: 0.6600\n",
            "Epoch 5/100\n",
            "200/200 [==============================] - 44s 221ms/step - loss: 0.6198 - acc: 0.6650 - val_loss: 0.5550 - val_acc: 0.7131\n",
            "Epoch 6/100\n",
            "200/200 [==============================] - 46s 228ms/step - loss: 0.5724 - acc: 0.7144 - val_loss: 0.5102 - val_acc: 0.7681\n",
            "Epoch 7/100\n",
            "200/200 [==============================] - 44s 221ms/step - loss: 0.5406 - acc: 0.7314 - val_loss: 0.4596 - val_acc: 0.7981\n",
            "Epoch 8/100\n",
            "200/200 [==============================] - 46s 228ms/step - loss: 0.5198 - acc: 0.7512 - val_loss: 0.5218 - val_acc: 0.7381\n",
            "Epoch 9/100\n",
            "200/200 [==============================] - 46s 228ms/step - loss: 0.4818 - acc: 0.7789 - val_loss: 0.4597 - val_acc: 0.7863\n",
            "Epoch 10/100\n",
            "200/200 [==============================] - 44s 221ms/step - loss: 0.4728 - acc: 0.7761 - val_loss: 0.4686 - val_acc: 0.7669\n",
            "Epoch 11/100\n",
            "200/200 [==============================] - 47s 235ms/step - loss: 0.4516 - acc: 0.7931 - val_loss: 0.4330 - val_acc: 0.8063\n",
            "Epoch 12/100\n",
            "200/200 [==============================] - 44s 221ms/step - loss: 0.4243 - acc: 0.8094 - val_loss: 0.3931 - val_acc: 0.8281\n",
            "Epoch 13/100\n",
            "200/200 [==============================] - 46s 228ms/step - loss: 0.4009 - acc: 0.8133 - val_loss: 0.4239 - val_acc: 0.8081\n",
            "Epoch 14/100\n",
            "200/200 [==============================] - 44s 221ms/step - loss: 0.3942 - acc: 0.8286 - val_loss: 0.4238 - val_acc: 0.8006\n",
            "Epoch 15/100\n",
            "200/200 [==============================] - 46s 228ms/step - loss: 0.3788 - acc: 0.8353 - val_loss: 0.4304 - val_acc: 0.7850\n",
            "Epoch 16/100\n",
            "200/200 [==============================] - 45s 223ms/step - loss: 0.3601 - acc: 0.8475 - val_loss: 0.3794 - val_acc: 0.8300\n",
            "Epoch 17/100\n",
            "200/200 [==============================] - 45s 226ms/step - loss: 0.3509 - acc: 0.8453 - val_loss: 0.3754 - val_acc: 0.8375\n",
            "Epoch 18/100\n",
            "200/200 [==============================] - 47s 236ms/step - loss: 0.3433 - acc: 0.8512 - val_loss: 0.3785 - val_acc: 0.8287\n",
            "Epoch 19/100\n",
            "200/200 [==============================] - 44s 220ms/step - loss: 0.3351 - acc: 0.8561 - val_loss: 0.3770 - val_acc: 0.8419\n",
            "Epoch 20/100\n",
            "200/200 [==============================] - 46s 228ms/step - loss: 0.3138 - acc: 0.8694 - val_loss: 0.3324 - val_acc: 0.8600\n",
            "Epoch 21/100\n",
            "200/200 [==============================] - 44s 221ms/step - loss: 0.3067 - acc: 0.8689 - val_loss: 0.3336 - val_acc: 0.8600\n",
            "Epoch 22/100\n",
            "200/200 [==============================] - 45s 227ms/step - loss: 0.2896 - acc: 0.8788 - val_loss: 0.3134 - val_acc: 0.8719\n",
            "Epoch 23/100\n",
            "200/200 [==============================] - 44s 221ms/step - loss: 0.2928 - acc: 0.8809 - val_loss: 0.3513 - val_acc: 0.8475\n",
            "Epoch 24/100\n",
            "200/200 [==============================] - 46s 228ms/step - loss: 0.2848 - acc: 0.8830 - val_loss: 0.3938 - val_acc: 0.8494\n",
            "Epoch 25/100\n",
            "200/200 [==============================] - 48s 239ms/step - loss: 0.2719 - acc: 0.8911 - val_loss: 0.2930 - val_acc: 0.8800\n",
            "Epoch 26/100\n",
            "200/200 [==============================] - 44s 220ms/step - loss: 0.2678 - acc: 0.8923 - val_loss: 0.3326 - val_acc: 0.8494\n",
            "Epoch 27/100\n",
            "200/200 [==============================] - 45s 227ms/step - loss: 0.2678 - acc: 0.8886 - val_loss: 0.3000 - val_acc: 0.8750\n",
            "Epoch 28/100\n",
            "200/200 [==============================] - 44s 220ms/step - loss: 0.2666 - acc: 0.8934 - val_loss: 0.2897 - val_acc: 0.8788\n",
            "Epoch 29/100\n",
            "200/200 [==============================] - 46s 228ms/step - loss: 0.2650 - acc: 0.8945 - val_loss: 0.3308 - val_acc: 0.8700\n",
            "Epoch 30/100\n",
            "200/200 [==============================] - 44s 221ms/step - loss: 0.2515 - acc: 0.8969 - val_loss: 0.2856 - val_acc: 0.8756\n",
            "Epoch 31/100\n",
            "200/200 [==============================] - 46s 232ms/step - loss: 0.2484 - acc: 0.8967 - val_loss: 0.2775 - val_acc: 0.8725\n",
            "Epoch 32/100\n",
            "200/200 [==============================] - 46s 232ms/step - loss: 0.2403 - acc: 0.9008 - val_loss: 0.2775 - val_acc: 0.8750\n",
            "Epoch 33/100\n",
            "200/200 [==============================] - 45s 224ms/step - loss: 0.2346 - acc: 0.9100 - val_loss: 0.2754 - val_acc: 0.8781\n",
            "Epoch 34/100\n",
            "200/200 [==============================] - 46s 228ms/step - loss: 0.2451 - acc: 0.9036 - val_loss: 0.3362 - val_acc: 0.8519\n",
            "Epoch 35/100\n",
            "200/200 [==============================] - 44s 220ms/step - loss: 0.2501 - acc: 0.9008 - val_loss: 0.2936 - val_acc: 0.8944\n",
            "Epoch 36/100\n",
            "200/200 [==============================] - 45s 227ms/step - loss: 0.2501 - acc: 0.9017 - val_loss: 0.2828 - val_acc: 0.8788\n",
            "Epoch 37/100\n",
            "200/200 [==============================] - 44s 220ms/step - loss: 0.2416 - acc: 0.9056 - val_loss: 0.3022 - val_acc: 0.8744\n",
            "Epoch 38/100\n",
            "200/200 [==============================] - 48s 238ms/step - loss: 0.2469 - acc: 0.9031 - val_loss: 0.2676 - val_acc: 0.8819\n",
            "Epoch 39/100\n",
            "200/200 [==============================] - 44s 222ms/step - loss: 0.2324 - acc: 0.9094 - val_loss: 0.2659 - val_acc: 0.8856\n",
            "Epoch 40/100\n",
            "200/200 [==============================] - 46s 228ms/step - loss: 0.2349 - acc: 0.9080 - val_loss: 0.3674 - val_acc: 0.8488\n",
            "Epoch 41/100\n",
            "200/200 [==============================] - 45s 227ms/step - loss: 0.2216 - acc: 0.9172 - val_loss: 0.4334 - val_acc: 0.8213\n",
            "Epoch 42/100\n",
            "200/200 [==============================] - 44s 221ms/step - loss: 0.2395 - acc: 0.9092 - val_loss: 0.2980 - val_acc: 0.8731\n",
            "Epoch 43/100\n",
            "200/200 [==============================] - 46s 228ms/step - loss: 0.2298 - acc: 0.9078 - val_loss: 0.3424 - val_acc: 0.8506\n",
            "Epoch 44/100\n",
            "200/200 [==============================] - 44s 220ms/step - loss: 0.2369 - acc: 0.9125 - val_loss: 0.2597 - val_acc: 0.8919\n",
            "Epoch 45/100\n",
            "200/200 [==============================] - 48s 238ms/step - loss: 0.2238 - acc: 0.9180 - val_loss: 0.2991 - val_acc: 0.8825\n",
            "Epoch 46/100\n",
            "200/200 [==============================] - 44s 221ms/step - loss: 0.2224 - acc: 0.9125 - val_loss: 0.3725 - val_acc: 0.8619\n",
            "Epoch 47/100\n",
            "200/200 [==============================] - 46s 228ms/step - loss: 0.2440 - acc: 0.9069 - val_loss: 0.2457 - val_acc: 0.9075\n",
            "Epoch 48/100\n",
            "200/200 [==============================] - 45s 225ms/step - loss: 0.2145 - acc: 0.9169 - val_loss: 0.2821 - val_acc: 0.8850\n",
            "Epoch 49/100\n",
            "200/200 [==============================] - 45s 225ms/step - loss: 0.2406 - acc: 0.9152 - val_loss: 0.2400 - val_acc: 0.8944\n",
            "Epoch 50/100\n",
            "200/200 [==============================] - 46s 228ms/step - loss: 0.2244 - acc: 0.9183 - val_loss: 0.2382 - val_acc: 0.9031\n",
            "Epoch 51/100\n",
            "200/200 [==============================] - 44s 221ms/step - loss: 0.2165 - acc: 0.9223 - val_loss: 0.6118 - val_acc: 0.8769\n",
            "Epoch 52/100\n",
            "200/200 [==============================] - 47s 237ms/step - loss: 0.2355 - acc: 0.9195 - val_loss: 0.2631 - val_acc: 0.8862\n",
            "Epoch 53/100\n",
            "200/200 [==============================] - 44s 221ms/step - loss: 0.2255 - acc: 0.9181 - val_loss: 0.3439 - val_acc: 0.8900\n",
            "Epoch 54/100\n",
            "200/200 [==============================] - 46s 228ms/step - loss: 0.2647 - acc: 0.9017 - val_loss: 0.3160 - val_acc: 0.8738\n",
            "Epoch 55/100\n",
            "200/200 [==============================] - 44s 221ms/step - loss: 0.2740 - acc: 0.8998 - val_loss: 0.2940 - val_acc: 0.8856\n",
            "Epoch 56/100\n",
            "200/200 [==============================] - 46s 229ms/step - loss: 0.2581 - acc: 0.9034 - val_loss: 0.2479 - val_acc: 0.8962\n",
            "Epoch 57/100\n",
            "200/200 [==============================] - 46s 228ms/step - loss: 0.2531 - acc: 0.9061 - val_loss: 0.2793 - val_acc: 0.8825\n",
            "Epoch 58/100\n",
            "200/200 [==============================] - 45s 225ms/step - loss: 0.2479 - acc: 0.9081 - val_loss: 0.2753 - val_acc: 0.8919\n",
            "Epoch 59/100\n",
            "200/200 [==============================] - 46s 232ms/step - loss: 0.2959 - acc: 0.9080 - val_loss: 0.3207 - val_acc: 0.8731\n",
            "Epoch 60/100\n",
            "200/200 [==============================] - 44s 222ms/step - loss: 0.2762 - acc: 0.9030 - val_loss: 0.3916 - val_acc: 0.8050\n",
            "Epoch 61/100\n",
            "200/200 [==============================] - 46s 228ms/step - loss: 0.2579 - acc: 0.9039 - val_loss: 0.3205 - val_acc: 0.8850\n",
            "Epoch 62/100\n",
            "200/200 [==============================] - 44s 221ms/step - loss: 0.2836 - acc: 0.9027 - val_loss: 0.2680 - val_acc: 0.8794\n",
            "Epoch 63/100\n",
            "200/200 [==============================] - 46s 229ms/step - loss: 0.2782 - acc: 0.9038 - val_loss: 0.4723 - val_acc: 0.8387\n",
            "Epoch 64/100\n",
            "200/200 [==============================] - 45s 225ms/step - loss: 0.2896 - acc: 0.9005 - val_loss: 0.3552 - val_acc: 0.8794\n",
            "Epoch 65/100\n",
            "200/200 [==============================] - 45s 227ms/step - loss: 0.2808 - acc: 0.8967 - val_loss: 0.4437 - val_acc: 0.8775\n",
            "Epoch 66/100\n",
            "200/200 [==============================] - 47s 236ms/step - loss: 0.2940 - acc: 0.9031 - val_loss: 0.2942 - val_acc: 0.8738\n",
            "Epoch 67/100\n",
            "200/200 [==============================] - 44s 221ms/step - loss: 0.3171 - acc: 0.8908 - val_loss: 0.3703 - val_acc: 0.8462\n",
            "Epoch 68/100\n",
            "200/200 [==============================] - 46s 228ms/step - loss: 0.2954 - acc: 0.8925 - val_loss: 0.3295 - val_acc: 0.8806\n",
            "Epoch 69/100\n",
            "200/200 [==============================] - 44s 221ms/step - loss: 0.3057 - acc: 0.8983 - val_loss: 0.5925 - val_acc: 0.8594\n",
            "Epoch 70/100\n",
            "200/200 [==============================] - 45s 227ms/step - loss: 0.3290 - acc: 0.8911 - val_loss: 0.3103 - val_acc: 0.8781\n",
            "Epoch 71/100\n",
            "200/200 [==============================] - 44s 222ms/step - loss: 0.3643 - acc: 0.8875 - val_loss: 0.3618 - val_acc: 0.8656\n",
            "Epoch 72/100\n",
            "200/200 [==============================] - 46s 232ms/step - loss: 0.3198 - acc: 0.8795 - val_loss: 0.3628 - val_acc: 0.8894\n",
            "Epoch 73/100\n",
            "200/200 [==============================] - 47s 236ms/step - loss: 0.3504 - acc: 0.8797 - val_loss: 0.3228 - val_acc: 0.8612\n",
            "Epoch 74/100\n",
            "200/200 [==============================] - 44s 221ms/step - loss: 0.3793 - acc: 0.8783 - val_loss: 0.8235 - val_acc: 0.7538\n",
            "Epoch 75/100\n",
            "200/200 [==============================] - 46s 228ms/step - loss: 0.4053 - acc: 0.8722 - val_loss: 0.4154 - val_acc: 0.8313\n",
            "Epoch 76/100\n",
            "200/200 [==============================] - 44s 221ms/step - loss: 0.3918 - acc: 0.8641 - val_loss: 0.3324 - val_acc: 0.8706\n",
            "Epoch 77/100\n",
            "200/200 [==============================] - 45s 227ms/step - loss: 0.3394 - acc: 0.8847 - val_loss: 0.4502 - val_acc: 0.8037\n",
            "Epoch 78/100\n",
            "200/200 [==============================] - 44s 221ms/step - loss: 0.4422 - acc: 0.8698 - val_loss: 0.2908 - val_acc: 0.8712\n",
            "Epoch 79/100\n",
            "200/200 [==============================] - 46s 231ms/step - loss: 0.3905 - acc: 0.8595 - val_loss: 0.4569 - val_acc: 0.8419\n",
            "Epoch 80/100\n",
            "200/200 [==============================] - 47s 236ms/step - loss: 0.4286 - acc: 0.8562 - val_loss: 0.3812 - val_acc: 0.8494\n",
            "Epoch 81/100\n",
            "200/200 [==============================] - 44s 221ms/step - loss: 0.4266 - acc: 0.8545 - val_loss: 0.3257 - val_acc: 0.8712\n",
            "Epoch 82/100\n",
            "200/200 [==============================] - 46s 228ms/step - loss: 0.5454 - acc: 0.8641 - val_loss: 0.2919 - val_acc: 0.9044\n",
            "Epoch 83/100\n",
            "200/200 [==============================] - 44s 220ms/step - loss: 0.3864 - acc: 0.8659 - val_loss: 0.3067 - val_acc: 0.8819\n",
            "Epoch 84/100\n",
            "200/200 [==============================] - 45s 227ms/step - loss: 0.4706 - acc: 0.8566 - val_loss: 0.3165 - val_acc: 0.8725\n",
            "Epoch 85/100\n",
            "200/200 [==============================] - 45s 225ms/step - loss: 0.6335 - acc: 0.8650 - val_loss: 0.3010 - val_acc: 0.8925\n",
            "Epoch 86/100\n",
            "200/200 [==============================] - 47s 235ms/step - loss: 0.3755 - acc: 0.8711 - val_loss: 0.7475 - val_acc: 0.7281\n",
            "Epoch 87/100\n",
            "200/200 [==============================] - 45s 224ms/step - loss: 0.3850 - acc: 0.8580 - val_loss: 0.2923 - val_acc: 0.8750\n",
            "Epoch 88/100\n",
            "200/200 [==============================] - 45s 225ms/step - loss: 0.4455 - acc: 0.8534 - val_loss: 0.4107 - val_acc: 0.8456\n",
            "Epoch 89/100\n",
            "200/200 [==============================] - 46s 228ms/step - loss: 0.4416 - acc: 0.8452 - val_loss: 0.3428 - val_acc: 0.8556\n",
            "Epoch 90/100\n",
            "200/200 [==============================] - 44s 220ms/step - loss: 0.4421 - acc: 0.8387 - val_loss: 1.6802 - val_acc: 0.6425\n",
            "Epoch 91/100\n",
            "200/200 [==============================] - 46s 228ms/step - loss: 0.4976 - acc: 0.8450 - val_loss: 0.3098 - val_acc: 0.8712\n",
            "Epoch 92/100\n",
            "200/200 [==============================] - 45s 224ms/step - loss: 0.5531 - acc: 0.8564 - val_loss: 0.3802 - val_acc: 0.8762\n",
            "Epoch 93/100\n",
            "200/200 [==============================] - 47s 236ms/step - loss: 0.4213 - acc: 0.8633 - val_loss: 0.2995 - val_acc: 0.8912\n",
            "Epoch 94/100\n",
            "200/200 [==============================] - 44s 220ms/step - loss: 0.5066 - acc: 0.8231 - val_loss: 0.2766 - val_acc: 0.8812\n",
            "Epoch 95/100\n",
            "200/200 [==============================] - 46s 228ms/step - loss: 0.4412 - acc: 0.8375 - val_loss: 0.4274 - val_acc: 0.8294\n",
            "Epoch 96/100\n",
            "200/200 [==============================] - 45s 227ms/step - loss: 0.4686 - acc: 0.8295 - val_loss: 0.4853 - val_acc: 0.7800\n",
            "Epoch 97/100\n",
            "200/200 [==============================] - 44s 221ms/step - loss: 0.5273 - acc: 0.8244 - val_loss: 0.3135 - val_acc: 0.8912\n",
            "Epoch 98/100\n",
            "200/200 [==============================] - 45s 227ms/step - loss: 0.9342 - acc: 0.7902 - val_loss: 8.0490 - val_acc: 0.5006\n",
            "Epoch 99/100\n",
            "200/200 [==============================] - 45s 224ms/step - loss: 8.0515 - acc: 0.5005 - val_loss: 8.0490 - val_acc: 0.5006\n",
            "Epoch 100/100\n",
            "200/200 [==============================] - 47s 234ms/step - loss: 3.6701 - acc: 0.6639 - val_loss: 0.4297 - val_acc: 0.8500\n"
          ],
          "name": "stdout"
        },
        {
          "output_type": "execute_result",
          "data": {
            "text/plain": [
              "<keras.callbacks.History at 0x7fdeec769cc0>"
            ]
          },
          "metadata": {
            "tags": []
          },
          "execution_count": 4
        }
      ]
    },
    {
      "cell_type": "markdown",
      "metadata": {
        "id": "p5hLaic4-h7k",
        "colab_type": "text"
      },
      "source": [
        "## Evaluating the model"
      ]
    },
    {
      "cell_type": "code",
      "metadata": {
        "id": "5WVj7OdK76fn",
        "colab_type": "code",
        "colab": {
          "base_uri": "https://localhost:8080/",
          "height": 68
        },
        "outputId": "86fc971a-fd51-43f4-9772-a1412838ee40"
      },
      "source": [
        "print(\"Metrics: {}\".format(classifier.metrics_names))\n",
        "metrics = classifier.evaluate_generator(test_set, steps=2000/32, verbose=1)\n",
        "print(\"Test Loss: {} and Accuracy: {}%\".format(metrics[0], metrics[1]*100))"
      ],
      "execution_count": 5,
      "outputs": [
        {
          "output_type": "stream",
          "text": [
            "Metrics: ['loss', 'acc']\n",
            "63/62 [==============================] - 5s 85ms/step\n",
            "Test Loss: 0.5233282656669617 and Accuracy: 85.39999999999999%\n"
          ],
          "name": "stdout"
        }
      ]
    }
  ]
}