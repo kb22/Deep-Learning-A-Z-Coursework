{
 "cells": [
  {
   "cell_type": "markdown",
   "metadata": {
    "heading_collapsed": true
   },
   "source": [
    "# Artificial Neural Networks\n",
    "\n",
    "In this notebook, I'll explore ANN using Keras and use it to make predictions. I'll also complete the homework example with the model."
   ]
  },
  {
   "cell_type": "markdown",
   "metadata": {
    "hidden": true
   },
   "source": [
    "## Import libraries"
   ]
  },
  {
   "cell_type": "code",
   "execution_count": 1,
   "metadata": {
    "hidden": true
   },
   "outputs": [],
   "source": [
    "import os\n",
    "import tensorflow\n",
    "os.environ['KERAS_BACKEND'] = 'tensorflow'\n",
    "\n",
    "import wget\n",
    "import numpy as np\n",
    "import pandas as pd\n",
    "import shutil\n",
    "import zipfile\n",
    "import warnings\n",
    "warnings.filterwarnings('ignore')\n",
    "\n",
    "from sklearn.model_selection import train_test_split\n",
    "from sklearn.preprocessing import StandardScaler, LabelEncoder, OneHotEncoder"
   ]
  },
  {
   "cell_type": "markdown",
   "metadata": {
    "hidden": true
   },
   "source": [
    "## Download and extract dataset"
   ]
  },
  {
   "cell_type": "code",
   "execution_count": 2,
   "metadata": {
    "hidden": true
   },
   "outputs": [
    {
     "name": "stdout",
     "output_type": "stream",
     "text": [
      "Path already exists\n"
     ]
    }
   ],
   "source": [
    "if os.path.exists('data'):\n",
    "    print(\"Path already exists\")\n",
    "else:\n",
    "    print(\"Creating the data directory\")\n",
    "    os.mkdir('data')\n",
    "    print(\"Directory created\")"
   ]
  },
  {
   "cell_type": "code",
   "execution_count": 3,
   "metadata": {
    "hidden": true
   },
   "outputs": [
    {
     "name": "stdout",
     "output_type": "stream",
     "text": [
      "Need to download dataset\n",
      "Data downloaded\n"
     ]
    }
   ],
   "source": [
    "data_url = 'https://sds-platform-private.s3-us-east-2.amazonaws.com/uploads/P16-Artificial-Neural-Networks.zip'\n",
    "file_name = data_url.split(\"/\")[-1]\n",
    "if not os.path.exists('data/' + file_name):\n",
    "    print('Need to download dataset')\n",
    "    wget.download(data_url, out = 'data')\n",
    "    print('Data downloaded')\n",
    "else:\n",
    "    print('Dataset zip available')"
   ]
  },
  {
   "cell_type": "code",
   "execution_count": 4,
   "metadata": {
    "hidden": true
   },
   "outputs": [
    {
     "name": "stdout",
     "output_type": "stream",
     "text": [
      "Extracting dataset\n",
      "Dataset extracted and created\n"
     ]
    }
   ],
   "source": [
    "with zipfile.ZipFile('data/' + file_name, 'r') as file:\n",
    "    print(\"Extracting dataset\")\n",
    "    file.extractall()\n",
    "    shutil.move('Artificial_Neural_Networks/Churn_Modelling.csv', 'data/dataset.csv')\n",
    "    print(\"Dataset extracted and created\")"
   ]
  },
  {
   "cell_type": "code",
   "execution_count": 5,
   "metadata": {
    "hidden": true
   },
   "outputs": [
    {
     "name": "stdout",
     "output_type": "stream",
     "text": [
      "Extra files removed\n"
     ]
    }
   ],
   "source": [
    "try:\n",
    "    shutil.rmtree('Artificial_Neural_Networks')\n",
    "    os.remove('data/' + file_name)\n",
    "    print(\"Extra files removed\")\n",
    "except:\n",
    "    print(\"Could not delete extra files\")"
   ]
  },
  {
   "cell_type": "markdown",
   "metadata": {
    "hidden": true
   },
   "source": [
    "## Import dataset"
   ]
  },
  {
   "cell_type": "code",
   "execution_count": 6,
   "metadata": {
    "hidden": true
   },
   "outputs": [],
   "source": [
    "dataset = pd.read_csv('data/dataset.csv')"
   ]
  },
  {
   "cell_type": "code",
   "execution_count": 7,
   "metadata": {
    "hidden": true
   },
   "outputs": [
    {
     "data": {
      "text/html": [
       "<div>\n",
       "<style scoped>\n",
       "    .dataframe tbody tr th:only-of-type {\n",
       "        vertical-align: middle;\n",
       "    }\n",
       "\n",
       "    .dataframe tbody tr th {\n",
       "        vertical-align: top;\n",
       "    }\n",
       "\n",
       "    .dataframe thead th {\n",
       "        text-align: right;\n",
       "    }\n",
       "</style>\n",
       "<table border=\"1\" class=\"dataframe\">\n",
       "  <thead>\n",
       "    <tr style=\"text-align: right;\">\n",
       "      <th></th>\n",
       "      <th>RowNumber</th>\n",
       "      <th>CustomerId</th>\n",
       "      <th>Surname</th>\n",
       "      <th>CreditScore</th>\n",
       "      <th>Geography</th>\n",
       "      <th>Gender</th>\n",
       "      <th>Age</th>\n",
       "      <th>Tenure</th>\n",
       "      <th>Balance</th>\n",
       "      <th>NumOfProducts</th>\n",
       "      <th>HasCrCard</th>\n",
       "      <th>IsActiveMember</th>\n",
       "      <th>EstimatedSalary</th>\n",
       "      <th>Exited</th>\n",
       "    </tr>\n",
       "  </thead>\n",
       "  <tbody>\n",
       "    <tr>\n",
       "      <th>0</th>\n",
       "      <td>1</td>\n",
       "      <td>15634602</td>\n",
       "      <td>Hargrave</td>\n",
       "      <td>619</td>\n",
       "      <td>France</td>\n",
       "      <td>Female</td>\n",
       "      <td>42</td>\n",
       "      <td>2</td>\n",
       "      <td>0.00</td>\n",
       "      <td>1</td>\n",
       "      <td>1</td>\n",
       "      <td>1</td>\n",
       "      <td>101348.88</td>\n",
       "      <td>1</td>\n",
       "    </tr>\n",
       "    <tr>\n",
       "      <th>1</th>\n",
       "      <td>2</td>\n",
       "      <td>15647311</td>\n",
       "      <td>Hill</td>\n",
       "      <td>608</td>\n",
       "      <td>Spain</td>\n",
       "      <td>Female</td>\n",
       "      <td>41</td>\n",
       "      <td>1</td>\n",
       "      <td>83807.86</td>\n",
       "      <td>1</td>\n",
       "      <td>0</td>\n",
       "      <td>1</td>\n",
       "      <td>112542.58</td>\n",
       "      <td>0</td>\n",
       "    </tr>\n",
       "    <tr>\n",
       "      <th>2</th>\n",
       "      <td>3</td>\n",
       "      <td>15619304</td>\n",
       "      <td>Onio</td>\n",
       "      <td>502</td>\n",
       "      <td>France</td>\n",
       "      <td>Female</td>\n",
       "      <td>42</td>\n",
       "      <td>8</td>\n",
       "      <td>159660.80</td>\n",
       "      <td>3</td>\n",
       "      <td>1</td>\n",
       "      <td>0</td>\n",
       "      <td>113931.57</td>\n",
       "      <td>1</td>\n",
       "    </tr>\n",
       "    <tr>\n",
       "      <th>3</th>\n",
       "      <td>4</td>\n",
       "      <td>15701354</td>\n",
       "      <td>Boni</td>\n",
       "      <td>699</td>\n",
       "      <td>France</td>\n",
       "      <td>Female</td>\n",
       "      <td>39</td>\n",
       "      <td>1</td>\n",
       "      <td>0.00</td>\n",
       "      <td>2</td>\n",
       "      <td>0</td>\n",
       "      <td>0</td>\n",
       "      <td>93826.63</td>\n",
       "      <td>0</td>\n",
       "    </tr>\n",
       "    <tr>\n",
       "      <th>4</th>\n",
       "      <td>5</td>\n",
       "      <td>15737888</td>\n",
       "      <td>Mitchell</td>\n",
       "      <td>850</td>\n",
       "      <td>Spain</td>\n",
       "      <td>Female</td>\n",
       "      <td>43</td>\n",
       "      <td>2</td>\n",
       "      <td>125510.82</td>\n",
       "      <td>1</td>\n",
       "      <td>1</td>\n",
       "      <td>1</td>\n",
       "      <td>79084.10</td>\n",
       "      <td>0</td>\n",
       "    </tr>\n",
       "  </tbody>\n",
       "</table>\n",
       "</div>"
      ],
      "text/plain": [
       "   RowNumber  CustomerId   Surname  CreditScore Geography  Gender  Age  \\\n",
       "0          1    15634602  Hargrave          619    France  Female   42   \n",
       "1          2    15647311      Hill          608     Spain  Female   41   \n",
       "2          3    15619304      Onio          502    France  Female   42   \n",
       "3          4    15701354      Boni          699    France  Female   39   \n",
       "4          5    15737888  Mitchell          850     Spain  Female   43   \n",
       "\n",
       "   Tenure    Balance  NumOfProducts  HasCrCard  IsActiveMember  \\\n",
       "0       2       0.00              1          1               1   \n",
       "1       1   83807.86              1          0               1   \n",
       "2       8  159660.80              3          1               0   \n",
       "3       1       0.00              2          0               0   \n",
       "4       2  125510.82              1          1               1   \n",
       "\n",
       "   EstimatedSalary  Exited  \n",
       "0        101348.88       1  \n",
       "1        112542.58       0  \n",
       "2        113931.57       1  \n",
       "3         93826.63       0  \n",
       "4         79084.10       0  "
      ]
     },
     "execution_count": 7,
     "metadata": {},
     "output_type": "execute_result"
    }
   ],
   "source": [
    "dataset.head(5)"
   ]
  },
  {
   "cell_type": "markdown",
   "metadata": {
    "hidden": true
   },
   "source": [
    "I'll take all the columns except for the first two as `features` and the last column as `label`."
   ]
  },
  {
   "cell_type": "code",
   "execution_count": 8,
   "metadata": {
    "hidden": true
   },
   "outputs": [],
   "source": [
    "X = dataset.iloc[:, 3:-1]\n",
    "y = dataset.iloc[:, -1]\n",
    "\n",
    "X_train, X_test, y_train, y_test = train_test_split(X, y, test_size = 0.2, random_state = 0)"
   ]
  },
  {
   "cell_type": "markdown",
   "metadata": {
    "hidden": true
   },
   "source": [
    "## Data processing"
   ]
  },
  {
   "cell_type": "code",
   "execution_count": 9,
   "metadata": {
    "hidden": true
   },
   "outputs": [],
   "source": [
    "labelEncoder1 = LabelEncoder()\n",
    "X_train.iloc[:, 1] = labelEncoder1.fit_transform(X_train.iloc[:, 1])\n",
    "X_test.iloc[:, 1] = labelEncoder1.transform(X_test.iloc[:, 1])\n",
    "labelEncoder2 = LabelEncoder()\n",
    "X_train.iloc[:, 2] = labelEncoder2.fit_transform(X_train.iloc[:, 2])\n",
    "X_test.iloc[:, 2] = labelEncoder2.transform(X_test.iloc[:, 2])"
   ]
  },
  {
   "cell_type": "code",
   "execution_count": 10,
   "metadata": {
    "hidden": true
   },
   "outputs": [
    {
     "name": "stderr",
     "output_type": "stream",
     "text": [
      "/Users/k.bhanot/Personal/Important Work/Deep Learning/Deep-Learning-A-Z-Coursework/lib/python3.7/site-packages/sklearn/preprocessing/_encoders.py:392: DeprecationWarning: The 'categorical_features' keyword is deprecated in version 0.20 and will be removed in 0.22. You can use the ColumnTransformer instead.\n",
      "  \"use the ColumnTransformer instead.\", DeprecationWarning)\n"
     ]
    }
   ],
   "source": [
    "oneHotEncoder = OneHotEncoder(categorical_features = [1])\n",
    "X_train = oneHotEncoder.fit_transform(X_train).toarray()\n",
    "X_test = oneHotEncoder.transform(X_test).toarray()"
   ]
  },
  {
   "cell_type": "code",
   "execution_count": 11,
   "metadata": {
    "hidden": true
   },
   "outputs": [],
   "source": [
    "X_train = X_train[:, 1:]\n",
    "X_test = X_test[:, 1:]"
   ]
  },
  {
   "cell_type": "code",
   "execution_count": 12,
   "metadata": {
    "hidden": true
   },
   "outputs": [],
   "source": [
    "standardScaler = StandardScaler()\n",
    "X_train = standardScaler.fit_transform(X_train)\n",
    "X_test = standardScaler.transform(X_test)"
   ]
  },
  {
   "cell_type": "markdown",
   "metadata": {
    "hidden": true
   },
   "source": [
    "## Artificial Neural Network"
   ]
  },
  {
   "cell_type": "code",
   "execution_count": 13,
   "metadata": {
    "hidden": true
   },
   "outputs": [
    {
     "name": "stderr",
     "output_type": "stream",
     "text": [
      "Using TensorFlow backend.\n"
     ]
    }
   ],
   "source": [
    "import keras\n",
    "from keras.models import Sequential\n",
    "from keras.layers import Dense"
   ]
  },
  {
   "cell_type": "code",
   "execution_count": 14,
   "metadata": {
    "hidden": true
   },
   "outputs": [
    {
     "name": "stdout",
     "output_type": "stream",
     "text": [
      "WARNING:tensorflow:From /Users/k.bhanot/Personal/Important Work/Deep Learning/Deep-Learning-A-Z-Coursework/lib/python3.7/site-packages/tensorflow/python/framework/op_def_library.py:263: colocate_with (from tensorflow.python.framework.ops) is deprecated and will be removed in a future version.\n",
      "Instructions for updating:\n",
      "Colocations handled automatically by placer.\n"
     ]
    }
   ],
   "source": [
    "classifier = Sequential()\n",
    "# First hidden layer\n",
    "classifier.add(Dense(output_dim = 6, init = 'uniform', activation = 'relu', input_dim = 11))\n",
    "# Second hidden layer\n",
    "classifier.add(Dense(output_dim = 6, init = 'uniform', activation = 'relu'))\n",
    "# Output layer\n",
    "classifier.add(Dense(output_dim = 1, init = 'uniform', activation = 'relu'))\n",
    "# Model compilation\n",
    "classifier.compile(optimizer = 'adam', loss = 'binary_crossentropy', metrics = ['accuracy'])"
   ]
  },
  {
   "cell_type": "code",
   "execution_count": 15,
   "metadata": {
    "hidden": true
   },
   "outputs": [
    {
     "name": "stdout",
     "output_type": "stream",
     "text": [
      "WARNING:tensorflow:From /Users/k.bhanot/Personal/Important Work/Deep Learning/Deep-Learning-A-Z-Coursework/lib/python3.7/site-packages/tensorflow/python/ops/math_ops.py:3066: to_int32 (from tensorflow.python.ops.math_ops) is deprecated and will be removed in a future version.\n",
      "Instructions for updating:\n",
      "Use tf.cast instead.\n",
      "Epoch 1/100\n",
      "8000/8000 [==============================] - 1s 109us/step - loss: 0.5233 - acc: 0.8000\n",
      "Epoch 2/100\n",
      "8000/8000 [==============================] - 1s 83us/step - loss: 0.4098 - acc: 0.8132\n",
      "Epoch 3/100\n",
      "8000/8000 [==============================] - 1s 83us/step - loss: 0.3949 - acc: 0.8211\n",
      "Epoch 4/100\n",
      "8000/8000 [==============================] - 1s 82us/step - loss: 0.3857 - acc: 0.8301\n",
      "Epoch 5/100\n",
      "8000/8000 [==============================] - 1s 82us/step - loss: 0.3808 - acc: 0.8387\n",
      "Epoch 6/100\n",
      "8000/8000 [==============================] - 1s 82us/step - loss: 0.3758 - acc: 0.8420\n",
      "Epoch 7/100\n",
      "8000/8000 [==============================] - 1s 82us/step - loss: 0.3706 - acc: 0.8391\n",
      "Epoch 8/100\n",
      "8000/8000 [==============================] - 1s 82us/step - loss: 0.3699 - acc: 0.8397\n",
      "Epoch 9/100\n",
      "8000/8000 [==============================] - 1s 82us/step - loss: 0.3678 - acc: 0.8402\n",
      "Epoch 10/100\n",
      "8000/8000 [==============================] - 1s 81us/step - loss: 0.3884 - acc: 0.8325\n",
      "Epoch 11/100\n",
      "8000/8000 [==============================] - 1s 83us/step - loss: 0.3691 - acc: 0.8372\n",
      "Epoch 12/100\n",
      "8000/8000 [==============================] - 1s 82us/step - loss: 0.3696 - acc: 0.8411\n",
      "Epoch 13/100\n",
      "8000/8000 [==============================] - 1s 82us/step - loss: 0.3712 - acc: 0.8399\n",
      "Epoch 14/100\n",
      "8000/8000 [==============================] - 1s 82us/step - loss: 0.3659 - acc: 0.8430\n",
      "Epoch 15/100\n",
      "8000/8000 [==============================] - 1s 82us/step - loss: 0.3697 - acc: 0.8441\n",
      "Epoch 16/100\n",
      "8000/8000 [==============================] - 1s 83us/step - loss: 0.3654 - acc: 0.8429\n",
      "Epoch 17/100\n",
      "8000/8000 [==============================] - 1s 82us/step - loss: 0.3710 - acc: 0.8451\n",
      "Epoch 18/100\n",
      "8000/8000 [==============================] - 1s 82us/step - loss: 0.3641 - acc: 0.8456\n",
      "Epoch 19/100\n",
      "8000/8000 [==============================] - 1s 82us/step - loss: 0.3708 - acc: 0.8435\n",
      "Epoch 20/100\n",
      "8000/8000 [==============================] - 1s 82us/step - loss: 0.3656 - acc: 0.8470\n",
      "Epoch 21/100\n",
      "8000/8000 [==============================] - 1s 82us/step - loss: 0.3673 - acc: 0.8441\n",
      "Epoch 22/100\n",
      "8000/8000 [==============================] - 1s 81us/step - loss: 0.3665 - acc: 0.8460\n",
      "Epoch 23/100\n",
      "8000/8000 [==============================] - 1s 81us/step - loss: 0.3674 - acc: 0.8476\n",
      "Epoch 24/100\n",
      "8000/8000 [==============================] - 1s 81us/step - loss: 0.3628 - acc: 0.8457\n",
      "Epoch 25/100\n",
      "8000/8000 [==============================] - 1s 83us/step - loss: 0.3637 - acc: 0.8456\n",
      "Epoch 26/100\n",
      "8000/8000 [==============================] - 1s 81us/step - loss: 0.3634 - acc: 0.8462\n",
      "Epoch 27/100\n",
      "8000/8000 [==============================] - 1s 83us/step - loss: 0.3660 - acc: 0.8477\n",
      "Epoch 28/100\n",
      "8000/8000 [==============================] - 1s 83us/step - loss: 0.3650 - acc: 0.8477\n",
      "Epoch 29/100\n",
      "8000/8000 [==============================] - 1s 81us/step - loss: 0.3625 - acc: 0.8475\n",
      "Epoch 30/100\n",
      "8000/8000 [==============================] - 1s 81us/step - loss: 0.3615 - acc: 0.8476\n",
      "Epoch 31/100\n",
      "8000/8000 [==============================] - 1s 84us/step - loss: 0.3601 - acc: 0.8482\n",
      "Epoch 32/100\n",
      "8000/8000 [==============================] - 1s 82us/step - loss: 0.3627 - acc: 0.8446\n",
      "Epoch 33/100\n",
      "8000/8000 [==============================] - 1s 82us/step - loss: 0.3602 - acc: 0.8466\n",
      "Epoch 34/100\n",
      "8000/8000 [==============================] - 1s 82us/step - loss: 0.3611 - acc: 0.8459\n",
      "Epoch 35/100\n",
      "8000/8000 [==============================] - 1s 82us/step - loss: 0.3592 - acc: 0.8494\n",
      "Epoch 36/100\n",
      "8000/8000 [==============================] - 1s 82us/step - loss: 0.3607 - acc: 0.8477\n",
      "Epoch 37/100\n",
      "8000/8000 [==============================] - 1s 82us/step - loss: 0.3582 - acc: 0.8461\n",
      "Epoch 38/100\n",
      "8000/8000 [==============================] - 1s 82us/step - loss: 0.3619 - acc: 0.8469\n",
      "Epoch 39/100\n",
      "8000/8000 [==============================] - 1s 82us/step - loss: 0.3652 - acc: 0.8465\n",
      "Epoch 40/100\n",
      "8000/8000 [==============================] - 1s 82us/step - loss: 0.3590 - acc: 0.8477\n",
      "Epoch 41/100\n",
      "8000/8000 [==============================] - 1s 82us/step - loss: 0.3668 - acc: 0.8466\n",
      "Epoch 42/100\n",
      "8000/8000 [==============================] - 1s 82us/step - loss: 0.3733 - acc: 0.8479\n",
      "Epoch 43/100\n",
      "8000/8000 [==============================] - 1s 82us/step - loss: 0.3622 - acc: 0.8476\n",
      "Epoch 44/100\n",
      "8000/8000 [==============================] - 1s 82us/step - loss: 0.3592 - acc: 0.8465\n",
      "Epoch 45/100\n",
      "8000/8000 [==============================] - 1s 81us/step - loss: 0.3586 - acc: 0.8471\n",
      "Epoch 46/100\n",
      "8000/8000 [==============================] - 1s 83us/step - loss: 0.3588 - acc: 0.8477\n",
      "Epoch 47/100\n",
      "8000/8000 [==============================] - 1s 82us/step - loss: 0.3564 - acc: 0.8474\n",
      "Epoch 48/100\n",
      "8000/8000 [==============================] - 1s 82us/step - loss: 0.3549 - acc: 0.8489\n",
      "Epoch 49/100\n",
      "8000/8000 [==============================] - 1s 82us/step - loss: 0.3596 - acc: 0.8459\n",
      "Epoch 50/100\n",
      "8000/8000 [==============================] - 1s 82us/step - loss: 0.3582 - acc: 0.8465\n",
      "Epoch 51/100\n",
      "8000/8000 [==============================] - 1s 81us/step - loss: 0.3576 - acc: 0.8461\n",
      "Epoch 52/100\n",
      "8000/8000 [==============================] - 1s 81us/step - loss: 0.3672 - acc: 0.8485\n",
      "Epoch 53/100\n",
      "8000/8000 [==============================] - 1s 81us/step - loss: 0.3652 - acc: 0.8465\n",
      "Epoch 54/100\n",
      "8000/8000 [==============================] - 1s 81us/step - loss: 0.3611 - acc: 0.8469\n",
      "Epoch 55/100\n",
      "8000/8000 [==============================] - 1s 83us/step - loss: 0.3573 - acc: 0.8482\n",
      "Epoch 56/100\n",
      "8000/8000 [==============================] - 1s 81us/step - loss: 0.3568 - acc: 0.8482\n",
      "Epoch 57/100\n",
      "8000/8000 [==============================] - 1s 82us/step - loss: 0.3607 - acc: 0.8477\n",
      "Epoch 58/100\n",
      "8000/8000 [==============================] - 1s 81us/step - loss: 0.3579 - acc: 0.8474\n",
      "Epoch 59/100\n",
      "8000/8000 [==============================] - 1s 81us/step - loss: 0.3725 - acc: 0.8402\n",
      "Epoch 60/100\n",
      "8000/8000 [==============================] - 1s 82us/step - loss: 0.3622 - acc: 0.8450\n",
      "Epoch 61/100\n",
      "8000/8000 [==============================] - 1s 82us/step - loss: 0.3589 - acc: 0.8467\n",
      "Epoch 62/100\n",
      "8000/8000 [==============================] - 1s 82us/step - loss: 0.3878 - acc: 0.8455\n",
      "Epoch 63/100\n",
      "8000/8000 [==============================] - 1s 82us/step - loss: 0.3601 - acc: 0.8501\n",
      "Epoch 64/100\n",
      "8000/8000 [==============================] - 1s 82us/step - loss: 0.3570 - acc: 0.8479\n",
      "Epoch 65/100\n",
      "8000/8000 [==============================] - 1s 82us/step - loss: 0.3565 - acc: 0.8469\n",
      "Epoch 66/100\n",
      "8000/8000 [==============================] - 1s 82us/step - loss: 0.3610 - acc: 0.8447\n",
      "Epoch 67/100\n",
      "8000/8000 [==============================] - 1s 82us/step - loss: 0.3586 - acc: 0.8469\n",
      "Epoch 68/100\n",
      "8000/8000 [==============================] - 1s 82us/step - loss: 0.3550 - acc: 0.8481\n",
      "Epoch 69/100\n",
      "8000/8000 [==============================] - 1s 82us/step - loss: 0.3555 - acc: 0.8496\n",
      "Epoch 70/100\n",
      "8000/8000 [==============================] - 1s 82us/step - loss: 0.3574 - acc: 0.8486\n",
      "Epoch 71/100\n",
      "8000/8000 [==============================] - 1s 82us/step - loss: 0.3560 - acc: 0.8491\n",
      "Epoch 72/100\n",
      "8000/8000 [==============================] - 1s 83us/step - loss: 0.3584 - acc: 0.8485\n",
      "Epoch 73/100\n",
      "8000/8000 [==============================] - 1s 84us/step - loss: 0.3579 - acc: 0.8472\n",
      "Epoch 74/100\n",
      "8000/8000 [==============================] - 1s 82us/step - loss: 0.3540 - acc: 0.8467\n",
      "Epoch 75/100\n",
      "8000/8000 [==============================] - 1s 83us/step - loss: 0.3555 - acc: 0.8480\n",
      "Epoch 76/100\n",
      "8000/8000 [==============================] - 1s 81us/step - loss: 0.3632 - acc: 0.8471\n",
      "Epoch 77/100\n",
      "8000/8000 [==============================] - 1s 82us/step - loss: 0.3585 - acc: 0.8490\n",
      "Epoch 78/100\n",
      "8000/8000 [==============================] - 1s 82us/step - loss: 0.3626 - acc: 0.8471\n",
      "Epoch 79/100\n"
     ]
    },
    {
     "name": "stdout",
     "output_type": "stream",
     "text": [
      "8000/8000 [==============================] - 1s 82us/step - loss: 0.3568 - acc: 0.8469\n",
      "Epoch 80/100\n",
      "8000/8000 [==============================] - 1s 82us/step - loss: 0.3569 - acc: 0.8465\n",
      "Epoch 81/100\n",
      "8000/8000 [==============================] - 1s 82us/step - loss: 0.3586 - acc: 0.8450\n",
      "Epoch 82/100\n",
      "8000/8000 [==============================] - 1s 82us/step - loss: 0.3557 - acc: 0.8482\n",
      "Epoch 83/100\n",
      "8000/8000 [==============================] - 1s 82us/step - loss: 0.3558 - acc: 0.8482\n",
      "Epoch 84/100\n",
      "8000/8000 [==============================] - 1s 82us/step - loss: 0.3571 - acc: 0.8479\n",
      "Epoch 85/100\n",
      "8000/8000 [==============================] - 1s 82us/step - loss: 0.3587 - acc: 0.8470\n",
      "Epoch 86/100\n",
      "8000/8000 [==============================] - 1s 81us/step - loss: 0.3584 - acc: 0.8489\n",
      "Epoch 87/100\n",
      "8000/8000 [==============================] - 1s 82us/step - loss: 0.3603 - acc: 0.8462\n",
      "Epoch 88/100\n",
      "8000/8000 [==============================] - 1s 82us/step - loss: 0.3550 - acc: 0.8472\n",
      "Epoch 89/100\n",
      "8000/8000 [==============================] - 1s 82us/step - loss: 0.3555 - acc: 0.8494\n",
      "Epoch 90/100\n",
      "8000/8000 [==============================] - 1s 82us/step - loss: 0.3557 - acc: 0.8466\n",
      "Epoch 91/100\n",
      "8000/8000 [==============================] - 1s 82us/step - loss: 0.3580 - acc: 0.8467\n",
      "Epoch 92/100\n",
      "8000/8000 [==============================] - 1s 82us/step - loss: 0.3563 - acc: 0.8482\n",
      "Epoch 93/100\n",
      "8000/8000 [==============================] - 1s 82us/step - loss: 0.3575 - acc: 0.8459\n",
      "Epoch 94/100\n",
      "8000/8000 [==============================] - 1s 83us/step - loss: 0.3698 - acc: 0.8442\n",
      "Epoch 95/100\n",
      "8000/8000 [==============================] - 1s 82us/step - loss: 0.3572 - acc: 0.8471\n",
      "Epoch 96/100\n",
      "8000/8000 [==============================] - 1s 82us/step - loss: 0.3543 - acc: 0.8477\n",
      "Epoch 97/100\n",
      "8000/8000 [==============================] - 1s 82us/step - loss: 0.3865 - acc: 0.8474\n",
      "Epoch 98/100\n",
      "8000/8000 [==============================] - 1s 82us/step - loss: 0.4179 - acc: 0.8509\n",
      "Epoch 99/100\n",
      "8000/8000 [==============================] - 1s 82us/step - loss: 0.3589 - acc: 0.8482\n",
      "Epoch 100/100\n",
      "8000/8000 [==============================] - 1s 82us/step - loss: 0.3548 - acc: 0.8479\n"
     ]
    },
    {
     "data": {
      "text/plain": [
       "<keras.callbacks.History at 0x13830c7b8>"
      ]
     },
     "execution_count": 15,
     "metadata": {},
     "output_type": "execute_result"
    }
   ],
   "source": [
    "classifier.fit(X_train, y_train, batch_size = 10, epochs = 100)"
   ]
  },
  {
   "cell_type": "markdown",
   "metadata": {
    "hidden": true
   },
   "source": [
    "## Prediction and results"
   ]
  },
  {
   "cell_type": "code",
   "execution_count": 16,
   "metadata": {
    "hidden": true
   },
   "outputs": [],
   "source": [
    "y_pred = classifier.predict(X_test)\n",
    "y_pred = y_pred > 0.5"
   ]
  },
  {
   "cell_type": "code",
   "execution_count": 17,
   "metadata": {
    "hidden": true
   },
   "outputs": [
    {
     "name": "stdout",
     "output_type": "stream",
     "text": [
      "Confusion matrix:\n",
      "[[1519   76]\n",
      " [ 200  205]]\n",
      "Accuracy: 86.20%\n"
     ]
    }
   ],
   "source": [
    "from sklearn.metrics import confusion_matrix, accuracy_score\n",
    "print(\"Confusion matrix:\")\n",
    "print(confusion_matrix(y_test, y_pred))\n",
    "print(\"Accuracy: {:.2f}%\".format(accuracy_score(y_test, y_pred)*100))"
   ]
  },
  {
   "cell_type": "markdown",
   "metadata": {
    "heading_collapsed": true
   },
   "source": [
    "# Homework"
   ]
  },
  {
   "cell_type": "code",
   "execution_count": 18,
   "metadata": {
    "hidden": true
   },
   "outputs": [
    {
     "name": "stdout",
     "output_type": "stream",
     "text": [
      "Will this person leave? No\n"
     ]
    }
   ],
   "source": [
    "test_case = [600, 'France', 'Male', 40, 3, 60000, 2, 1, 1, 50000]\n",
    "test_case[1] = labelEncoder1.transform(pd.Series(test_case[1]))\n",
    "test_case[2] = labelEncoder2.transform(pd.Series(test_case[2]))\n",
    "test_case = oneHotEncoder.transform(np.array(test_case).reshape(1, -1)).toarray()[0]\n",
    "test_case = test_case[1:]\n",
    "test_case = standardScaler.transform(test_case.reshape(1, -1))\n",
    "print(\"Will this person leave? {}\".format(\"Yes\" if (classifier.predict(test_case) > 0.5) else \"No\"))"
   ]
  }
 ],
 "metadata": {
  "kernelspec": {
   "display_name": "Python 3",
   "language": "python",
   "name": "python3"
  },
  "language_info": {
   "codemirror_mode": {
    "name": "ipython",
    "version": 3
   },
   "file_extension": ".py",
   "mimetype": "text/x-python",
   "name": "python",
   "nbconvert_exporter": "python",
   "pygments_lexer": "ipython3",
   "version": "3.7.2"
  }
 },
 "nbformat": 4,
 "nbformat_minor": 2
}
