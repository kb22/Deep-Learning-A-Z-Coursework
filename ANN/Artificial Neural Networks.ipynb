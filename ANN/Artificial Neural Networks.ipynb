{
 "cells": [
  {
   "cell_type": "markdown",
   "metadata": {},
   "source": [
    "# Artificial Neural Networks\n",
    "\n",
    "In this notebook, I'll explore ANN using Keras and use it to make predictions. I'll also complete the homework example with the model."
   ]
  },
  {
   "cell_type": "markdown",
   "metadata": {},
   "source": [
    "## Import libraries"
   ]
  },
  {
   "cell_type": "code",
   "execution_count": 1,
   "metadata": {},
   "outputs": [],
   "source": [
    "import os\n",
    "import tensorflow\n",
    "os.environ['KERAS_BACKEND'] = 'tensorflow'\n",
    "\n",
    "import wget\n",
    "import numpy as np\n",
    "import pandas as pd\n",
    "import shutil\n",
    "import zipfile\n",
    "import warnings\n",
    "warnings.filterwarnings('ignore')\n",
    "\n",
    "from sklearn.model_selection import train_test_split\n",
    "from sklearn.preprocessing import StandardScaler, LabelEncoder, OneHotEncoder"
   ]
  },
  {
   "cell_type": "markdown",
   "metadata": {},
   "source": [
    "## Download and extract dataset"
   ]
  },
  {
   "cell_type": "code",
   "execution_count": 2,
   "metadata": {},
   "outputs": [
    {
     "name": "stdout",
     "output_type": "stream",
     "text": [
      "Path already exists\n"
     ]
    }
   ],
   "source": [
    "if os.path.exists('data'):\n",
    "    print(\"Path already exists\")\n",
    "else:\n",
    "    print(\"Creating the data directory\")\n",
    "    os.mkdir('data')\n",
    "    print(\"Directory created\")"
   ]
  },
  {
   "cell_type": "code",
   "execution_count": 3,
   "metadata": {},
   "outputs": [
    {
     "name": "stdout",
     "output_type": "stream",
     "text": [
      "Need to download dataset\n",
      "Data downloaded\n"
     ]
    }
   ],
   "source": [
    "data_url = 'https://sds-platform-private.s3-us-east-2.amazonaws.com/uploads/P16-Artificial-Neural-Networks.zip'\n",
    "file_name = data_url.split(\"/\")[-1]\n",
    "if not os.path.exists('data/' + file_name):\n",
    "    print('Need to download dataset')\n",
    "    wget.download(data_url, out = 'data')\n",
    "    print('Data downloaded')\n",
    "else:\n",
    "    print('Dataset zip available')"
   ]
  },
  {
   "cell_type": "code",
   "execution_count": 4,
   "metadata": {},
   "outputs": [
    {
     "name": "stdout",
     "output_type": "stream",
     "text": [
      "Extracting dataset\n",
      "Dataset extracted and created\n"
     ]
    }
   ],
   "source": [
    "with zipfile.ZipFile('data/' + file_name, 'r') as file:\n",
    "    print(\"Extracting dataset\")\n",
    "    file.extractall()\n",
    "    shutil.move('Artificial_Neural_Networks/Churn_Modelling.csv', 'data/dataset.csv')\n",
    "    print(\"Dataset extracted and created\")"
   ]
  },
  {
   "cell_type": "code",
   "execution_count": 5,
   "metadata": {},
   "outputs": [
    {
     "name": "stdout",
     "output_type": "stream",
     "text": [
      "Extra files removed\n"
     ]
    }
   ],
   "source": [
    "try:\n",
    "    shutil.rmtree('Artificial_Neural_Networks')\n",
    "    os.remove('data/' + file_name)\n",
    "    print(\"Extra files removed\")\n",
    "except:\n",
    "    print(\"Could not delete extra files\")"
   ]
  },
  {
   "cell_type": "markdown",
   "metadata": {},
   "source": [
    "## Import dataset"
   ]
  },
  {
   "cell_type": "code",
   "execution_count": 6,
   "metadata": {},
   "outputs": [],
   "source": [
    "dataset = pd.read_csv('data/dataset.csv')"
   ]
  },
  {
   "cell_type": "code",
   "execution_count": 7,
   "metadata": {},
   "outputs": [
    {
     "data": {
      "text/html": [
       "<div>\n",
       "<style scoped>\n",
       "    .dataframe tbody tr th:only-of-type {\n",
       "        vertical-align: middle;\n",
       "    }\n",
       "\n",
       "    .dataframe tbody tr th {\n",
       "        vertical-align: top;\n",
       "    }\n",
       "\n",
       "    .dataframe thead th {\n",
       "        text-align: right;\n",
       "    }\n",
       "</style>\n",
       "<table border=\"1\" class=\"dataframe\">\n",
       "  <thead>\n",
       "    <tr style=\"text-align: right;\">\n",
       "      <th></th>\n",
       "      <th>RowNumber</th>\n",
       "      <th>CustomerId</th>\n",
       "      <th>Surname</th>\n",
       "      <th>CreditScore</th>\n",
       "      <th>Geography</th>\n",
       "      <th>Gender</th>\n",
       "      <th>Age</th>\n",
       "      <th>Tenure</th>\n",
       "      <th>Balance</th>\n",
       "      <th>NumOfProducts</th>\n",
       "      <th>HasCrCard</th>\n",
       "      <th>IsActiveMember</th>\n",
       "      <th>EstimatedSalary</th>\n",
       "      <th>Exited</th>\n",
       "    </tr>\n",
       "  </thead>\n",
       "  <tbody>\n",
       "    <tr>\n",
       "      <th>0</th>\n",
       "      <td>1</td>\n",
       "      <td>15634602</td>\n",
       "      <td>Hargrave</td>\n",
       "      <td>619</td>\n",
       "      <td>France</td>\n",
       "      <td>Female</td>\n",
       "      <td>42</td>\n",
       "      <td>2</td>\n",
       "      <td>0.00</td>\n",
       "      <td>1</td>\n",
       "      <td>1</td>\n",
       "      <td>1</td>\n",
       "      <td>101348.88</td>\n",
       "      <td>1</td>\n",
       "    </tr>\n",
       "    <tr>\n",
       "      <th>1</th>\n",
       "      <td>2</td>\n",
       "      <td>15647311</td>\n",
       "      <td>Hill</td>\n",
       "      <td>608</td>\n",
       "      <td>Spain</td>\n",
       "      <td>Female</td>\n",
       "      <td>41</td>\n",
       "      <td>1</td>\n",
       "      <td>83807.86</td>\n",
       "      <td>1</td>\n",
       "      <td>0</td>\n",
       "      <td>1</td>\n",
       "      <td>112542.58</td>\n",
       "      <td>0</td>\n",
       "    </tr>\n",
       "    <tr>\n",
       "      <th>2</th>\n",
       "      <td>3</td>\n",
       "      <td>15619304</td>\n",
       "      <td>Onio</td>\n",
       "      <td>502</td>\n",
       "      <td>France</td>\n",
       "      <td>Female</td>\n",
       "      <td>42</td>\n",
       "      <td>8</td>\n",
       "      <td>159660.80</td>\n",
       "      <td>3</td>\n",
       "      <td>1</td>\n",
       "      <td>0</td>\n",
       "      <td>113931.57</td>\n",
       "      <td>1</td>\n",
       "    </tr>\n",
       "    <tr>\n",
       "      <th>3</th>\n",
       "      <td>4</td>\n",
       "      <td>15701354</td>\n",
       "      <td>Boni</td>\n",
       "      <td>699</td>\n",
       "      <td>France</td>\n",
       "      <td>Female</td>\n",
       "      <td>39</td>\n",
       "      <td>1</td>\n",
       "      <td>0.00</td>\n",
       "      <td>2</td>\n",
       "      <td>0</td>\n",
       "      <td>0</td>\n",
       "      <td>93826.63</td>\n",
       "      <td>0</td>\n",
       "    </tr>\n",
       "    <tr>\n",
       "      <th>4</th>\n",
       "      <td>5</td>\n",
       "      <td>15737888</td>\n",
       "      <td>Mitchell</td>\n",
       "      <td>850</td>\n",
       "      <td>Spain</td>\n",
       "      <td>Female</td>\n",
       "      <td>43</td>\n",
       "      <td>2</td>\n",
       "      <td>125510.82</td>\n",
       "      <td>1</td>\n",
       "      <td>1</td>\n",
       "      <td>1</td>\n",
       "      <td>79084.10</td>\n",
       "      <td>0</td>\n",
       "    </tr>\n",
       "  </tbody>\n",
       "</table>\n",
       "</div>"
      ],
      "text/plain": [
       "   RowNumber  CustomerId   Surname  CreditScore Geography  Gender  Age  \\\n",
       "0          1    15634602  Hargrave          619    France  Female   42   \n",
       "1          2    15647311      Hill          608     Spain  Female   41   \n",
       "2          3    15619304      Onio          502    France  Female   42   \n",
       "3          4    15701354      Boni          699    France  Female   39   \n",
       "4          5    15737888  Mitchell          850     Spain  Female   43   \n",
       "\n",
       "   Tenure    Balance  NumOfProducts  HasCrCard  IsActiveMember  \\\n",
       "0       2       0.00              1          1               1   \n",
       "1       1   83807.86              1          0               1   \n",
       "2       8  159660.80              3          1               0   \n",
       "3       1       0.00              2          0               0   \n",
       "4       2  125510.82              1          1               1   \n",
       "\n",
       "   EstimatedSalary  Exited  \n",
       "0        101348.88       1  \n",
       "1        112542.58       0  \n",
       "2        113931.57       1  \n",
       "3         93826.63       0  \n",
       "4         79084.10       0  "
      ]
     },
     "execution_count": 7,
     "metadata": {},
     "output_type": "execute_result"
    }
   ],
   "source": [
    "dataset.head(5)"
   ]
  },
  {
   "cell_type": "markdown",
   "metadata": {},
   "source": [
    "I'll take all the columns except for the first two as `features` and the last column as `label`."
   ]
  },
  {
   "cell_type": "code",
   "execution_count": 8,
   "metadata": {},
   "outputs": [],
   "source": [
    "X = dataset.iloc[:, 3:-1]\n",
    "y = dataset.iloc[:, -1]\n",
    "\n",
    "X_train, X_test, y_train, y_test = train_test_split(X, y, test_size = 0.2, random_state = 0)"
   ]
  },
  {
   "cell_type": "markdown",
   "metadata": {},
   "source": [
    "## Data processing"
   ]
  },
  {
   "cell_type": "code",
   "execution_count": 9,
   "metadata": {},
   "outputs": [],
   "source": [
    "labelEncoder1 = LabelEncoder()\n",
    "X_train.iloc[:, 1] = labelEncoder1.fit_transform(X_train.iloc[:, 1])\n",
    "X_test.iloc[:, 1] = labelEncoder1.transform(X_test.iloc[:, 1])\n",
    "labelEncoder2 = LabelEncoder()\n",
    "X_train.iloc[:, 2] = labelEncoder2.fit_transform(X_train.iloc[:, 2])\n",
    "X_test.iloc[:, 2] = labelEncoder2.transform(X_test.iloc[:, 2])"
   ]
  },
  {
   "cell_type": "code",
   "execution_count": 10,
   "metadata": {},
   "outputs": [
    {
     "name": "stderr",
     "output_type": "stream",
     "text": [
      "/Users/k.bhanot/Personal/Important Work/Deep Learning/Deep-Learning-A-Z-Coursework/lib/python3.7/site-packages/sklearn/preprocessing/_encoders.py:392: DeprecationWarning: The 'categorical_features' keyword is deprecated in version 0.20 and will be removed in 0.22. You can use the ColumnTransformer instead.\n",
      "  \"use the ColumnTransformer instead.\", DeprecationWarning)\n"
     ]
    }
   ],
   "source": [
    "oneHotEncoder = OneHotEncoder(categorical_features = [1])\n",
    "X_train = oneHotEncoder.fit_transform(X_train).toarray()\n",
    "X_test = oneHotEncoder.transform(X_test).toarray()"
   ]
  },
  {
   "cell_type": "code",
   "execution_count": 11,
   "metadata": {},
   "outputs": [],
   "source": [
    "X_train = X_train[:, 1:]\n",
    "X_test = X_test[:, 1:]"
   ]
  },
  {
   "cell_type": "code",
   "execution_count": 12,
   "metadata": {},
   "outputs": [],
   "source": [
    "standardScaler = StandardScaler()\n",
    "X_train = standardScaler.fit_transform(X_train)\n",
    "X_test = standardScaler.transform(X_test)"
   ]
  },
  {
   "cell_type": "markdown",
   "metadata": {},
   "source": [
    "## Artificial Neural Network"
   ]
  },
  {
   "cell_type": "code",
   "execution_count": 13,
   "metadata": {},
   "outputs": [
    {
     "name": "stderr",
     "output_type": "stream",
     "text": [
      "Using TensorFlow backend.\n"
     ]
    }
   ],
   "source": [
    "import keras\n",
    "from keras.models import Sequential\n",
    "from keras.layers import Dense"
   ]
  },
  {
   "cell_type": "code",
   "execution_count": 14,
   "metadata": {},
   "outputs": [
    {
     "name": "stdout",
     "output_type": "stream",
     "text": [
      "WARNING:tensorflow:From /Users/k.bhanot/Personal/Important Work/Deep Learning/Deep-Learning-A-Z-Coursework/lib/python3.7/site-packages/tensorflow/python/framework/op_def_library.py:263: colocate_with (from tensorflow.python.framework.ops) is deprecated and will be removed in a future version.\n",
      "Instructions for updating:\n",
      "Colocations handled automatically by placer.\n"
     ]
    }
   ],
   "source": [
    "classifier = Sequential()\n",
    "# First hidden layer\n",
    "classifier.add(Dense(output_dim = 6, init = 'uniform', activation = 'relu', input_dim = 11))\n",
    "# Second hidden layer\n",
    "classifier.add(Dense(output_dim = 6, init = 'uniform', activation = 'relu'))\n",
    "# Output layer\n",
    "classifier.add(Dense(output_dim = 1, init = 'uniform', activation = 'relu'))\n",
    "# Model compilation\n",
    "classifier.compile(optimizer = 'adam', loss = 'binary_crossentropy', metrics = ['accuracy'])"
   ]
  },
  {
   "cell_type": "code",
   "execution_count": 15,
   "metadata": {},
   "outputs": [
    {
     "name": "stdout",
     "output_type": "stream",
     "text": [
      "WARNING:tensorflow:From /Users/k.bhanot/Personal/Important Work/Deep Learning/Deep-Learning-A-Z-Coursework/lib/python3.7/site-packages/tensorflow/python/ops/math_ops.py:3066: to_int32 (from tensorflow.python.ops.math_ops) is deprecated and will be removed in a future version.\n",
      "Instructions for updating:\n",
      "Use tf.cast instead.\n",
      "Epoch 1/100\n",
      "8000/8000 [==============================] - 1s 109us/step - loss: 0.4872 - acc: 0.8015\n",
      "Epoch 2/100\n",
      "8000/8000 [==============================] - 1s 84us/step - loss: 0.4121 - acc: 0.8124\n",
      "Epoch 3/100\n",
      "8000/8000 [==============================] - 1s 89us/step - loss: 0.3951 - acc: 0.8229\n",
      "Epoch 4/100\n",
      "8000/8000 [==============================] - 1s 86us/step - loss: 0.3845 - acc: 0.8321\n",
      "Epoch 5/100\n",
      "8000/8000 [==============================] - 1s 83us/step - loss: 0.3793 - acc: 0.8377\n",
      "Epoch 6/100\n",
      "8000/8000 [==============================] - 1s 91us/step - loss: 0.3730 - acc: 0.8359\n",
      "Epoch 7/100\n",
      "8000/8000 [==============================] - 1s 102us/step - loss: 0.3703 - acc: 0.8371\n",
      "Epoch 8/100\n",
      "8000/8000 [==============================] - 1s 88us/step - loss: 0.3689 - acc: 0.8395\n",
      "Epoch 9/100\n",
      "8000/8000 [==============================] - 1s 84us/step - loss: 0.3688 - acc: 0.8424\n",
      "Epoch 10/100\n",
      "8000/8000 [==============================] - 1s 86us/step - loss: 0.3663 - acc: 0.8411\n",
      "Epoch 11/100\n",
      "8000/8000 [==============================] - 1s 83us/step - loss: 0.3709 - acc: 0.8445\n",
      "Epoch 12/100\n",
      "8000/8000 [==============================] - 1s 83us/step - loss: 0.3634 - acc: 0.8460\n",
      "Epoch 13/100\n",
      "8000/8000 [==============================] - 1s 84us/step - loss: 0.3636 - acc: 0.8425\n",
      "Epoch 14/100\n",
      "8000/8000 [==============================] - 1s 84us/step - loss: 0.3594 - acc: 0.8501\n",
      "Epoch 15/100\n",
      "8000/8000 [==============================] - 1s 83us/step - loss: 0.3644 - acc: 0.8484\n",
      "Epoch 16/100\n",
      "8000/8000 [==============================] - 1s 83us/step - loss: 0.3621 - acc: 0.8509\n",
      "Epoch 17/100\n",
      "8000/8000 [==============================] - 1s 93us/step - loss: 0.3639 - acc: 0.8499\n",
      "Epoch 18/100\n",
      "8000/8000 [==============================] - 1s 83us/step - loss: 0.3642 - acc: 0.8524\n",
      "Epoch 19/100\n",
      "8000/8000 [==============================] - 1s 83us/step - loss: 0.3604 - acc: 0.8522\n",
      "Epoch 20/100\n",
      "8000/8000 [==============================] - 1s 83us/step - loss: 0.3596 - acc: 0.8520\n",
      "Epoch 21/100\n",
      "8000/8000 [==============================] - 1s 83us/step - loss: 0.3612 - acc: 0.8522\n",
      "Epoch 22/100\n",
      "8000/8000 [==============================] - 1s 83us/step - loss: 0.3629 - acc: 0.8514\n",
      "Epoch 23/100\n",
      "8000/8000 [==============================] - 1s 84us/step - loss: 0.3589 - acc: 0.8504\n",
      "Epoch 24/100\n",
      "8000/8000 [==============================] - 1s 83us/step - loss: 0.3617 - acc: 0.8519\n",
      "Epoch 25/100\n",
      "8000/8000 [==============================] - 1s 83us/step - loss: 0.3578 - acc: 0.8529\n",
      "Epoch 26/100\n",
      "8000/8000 [==============================] - 1s 83us/step - loss: 0.3604 - acc: 0.8506\n",
      "Epoch 27/100\n",
      "8000/8000 [==============================] - 1s 83us/step - loss: 0.3551 - acc: 0.8522\n",
      "Epoch 28/100\n",
      "8000/8000 [==============================] - 1s 83us/step - loss: 0.3541 - acc: 0.8532\n",
      "Epoch 29/100\n",
      "8000/8000 [==============================] - 1s 84us/step - loss: 0.3557 - acc: 0.8532\n",
      "Epoch 30/100\n",
      "8000/8000 [==============================] - 1s 83us/step - loss: 0.3563 - acc: 0.8511\n",
      "Epoch 31/100\n",
      "8000/8000 [==============================] - 1s 83us/step - loss: 0.3567 - acc: 0.8517\n",
      "Epoch 32/100\n",
      "8000/8000 [==============================] - 1s 85us/step - loss: 0.3575 - acc: 0.8515\n",
      "Epoch 33/100\n",
      "8000/8000 [==============================] - 1s 83us/step - loss: 0.3556 - acc: 0.8515\n",
      "Epoch 34/100\n",
      "8000/8000 [==============================] - 1s 83us/step - loss: 0.3582 - acc: 0.8527\n",
      "Epoch 35/100\n",
      "8000/8000 [==============================] - 1s 84us/step - loss: 0.3539 - acc: 0.8511\n",
      "Epoch 36/100\n",
      "8000/8000 [==============================] - 1s 83us/step - loss: 0.3554 - acc: 0.8539\n",
      "Epoch 37/100\n",
      "8000/8000 [==============================] - 1s 83us/step - loss: 0.3772 - acc: 0.8479\n",
      "Epoch 38/100\n",
      "8000/8000 [==============================] - 1s 83us/step - loss: 0.3521 - acc: 0.8519\n",
      "Epoch 39/100\n",
      "8000/8000 [==============================] - 1s 83us/step - loss: 0.3511 - acc: 0.8534\n",
      "Epoch 40/100\n",
      "8000/8000 [==============================] - 1s 84us/step - loss: 0.3526 - acc: 0.8484\n",
      "Epoch 41/100\n",
      "8000/8000 [==============================] - 1s 83us/step - loss: 0.3505 - acc: 0.8525\n",
      "Epoch 42/100\n",
      "8000/8000 [==============================] - 1s 83us/step - loss: 0.3504 - acc: 0.8532\n",
      "Epoch 43/100\n",
      "8000/8000 [==============================] - 1s 83us/step - loss: 0.3541 - acc: 0.8514\n",
      "Epoch 44/100\n",
      "8000/8000 [==============================] - 1s 83us/step - loss: 0.3555 - acc: 0.8530\n",
      "Epoch 45/100\n",
      "8000/8000 [==============================] - 1s 83us/step - loss: 0.3511 - acc: 0.8525\n",
      "Epoch 46/100\n",
      "8000/8000 [==============================] - 1s 83us/step - loss: 0.3553 - acc: 0.8516\n",
      "Epoch 47/100\n",
      "8000/8000 [==============================] - 1s 83us/step - loss: 0.3506 - acc: 0.8534\n",
      "Epoch 48/100\n",
      "8000/8000 [==============================] - 1s 83us/step - loss: 0.3515 - acc: 0.8519\n",
      "Epoch 49/100\n",
      "8000/8000 [==============================] - 1s 83us/step - loss: 0.3508 - acc: 0.8522\n",
      "Epoch 50/100\n",
      "8000/8000 [==============================] - 1s 85us/step - loss: 0.3493 - acc: 0.8520\n",
      "Epoch 51/100\n",
      "8000/8000 [==============================] - 1s 84us/step - loss: 0.3504 - acc: 0.8525\n",
      "Epoch 52/100\n",
      "8000/8000 [==============================] - 1s 83us/step - loss: 0.3569 - acc: 0.8504\n",
      "Epoch 53/100\n",
      "8000/8000 [==============================] - 1s 83us/step - loss: 0.3523 - acc: 0.8507\n",
      "Epoch 54/100\n",
      "8000/8000 [==============================] - 1s 83us/step - loss: 0.3488 - acc: 0.8529\n",
      "Epoch 55/100\n",
      "8000/8000 [==============================] - 1s 83us/step - loss: 0.3534 - acc: 0.8539\n",
      "Epoch 56/100\n",
      "8000/8000 [==============================] - 1s 83us/step - loss: 0.3495 - acc: 0.8522\n",
      "Epoch 57/100\n",
      "8000/8000 [==============================] - 1s 83us/step - loss: 0.4237 - acc: 0.8476\n",
      "Epoch 58/100\n",
      "8000/8000 [==============================] - 1s 83us/step - loss: 0.3516 - acc: 0.8516\n",
      "Epoch 59/100\n",
      "8000/8000 [==============================] - 1s 83us/step - loss: 0.3480 - acc: 0.8544\n",
      "Epoch 60/100\n",
      "8000/8000 [==============================] - 1s 83us/step - loss: 0.3476 - acc: 0.8531\n",
      "Epoch 61/100\n",
      "8000/8000 [==============================] - 1s 83us/step - loss: 0.3473 - acc: 0.8541\n",
      "Epoch 62/100\n",
      "8000/8000 [==============================] - 1s 83us/step - loss: 0.3490 - acc: 0.8527\n",
      "Epoch 63/100\n",
      "8000/8000 [==============================] - 1s 83us/step - loss: 0.3458 - acc: 0.8531\n",
      "Epoch 64/100\n",
      "8000/8000 [==============================] - 1s 83us/step - loss: 0.3570 - acc: 0.8511\n",
      "Epoch 65/100\n",
      "8000/8000 [==============================] - 1s 83us/step - loss: 0.3476 - acc: 0.8525\n",
      "Epoch 66/100\n",
      "8000/8000 [==============================] - 1s 83us/step - loss: 0.3480 - acc: 0.8532\n",
      "Epoch 67/100\n",
      "8000/8000 [==============================] - 1s 85us/step - loss: 0.3481 - acc: 0.8514\n",
      "Epoch 68/100\n",
      "8000/8000 [==============================] - 1s 84us/step - loss: 0.3479 - acc: 0.8552\n",
      "Epoch 69/100\n",
      "8000/8000 [==============================] - 1s 83us/step - loss: 0.3456 - acc: 0.8530\n",
      "Epoch 70/100\n",
      "8000/8000 [==============================] - 1s 83us/step - loss: 0.3471 - acc: 0.8530\n",
      "Epoch 71/100\n",
      "8000/8000 [==============================] - 1s 83us/step - loss: 0.3497 - acc: 0.8547\n",
      "Epoch 72/100\n",
      "8000/8000 [==============================] - 1s 83us/step - loss: 0.3485 - acc: 0.8549\n",
      "Epoch 73/100\n",
      "8000/8000 [==============================] - 1s 83us/step - loss: 0.3488 - acc: 0.8537\n",
      "Epoch 74/100\n",
      "8000/8000 [==============================] - 1s 84us/step - loss: 0.3470 - acc: 0.8564\n",
      "Epoch 75/100\n",
      "8000/8000 [==============================] - 1s 83us/step - loss: 0.3533 - acc: 0.8542\n",
      "Epoch 76/100\n",
      "8000/8000 [==============================] - 1s 83us/step - loss: 0.3560 - acc: 0.8536\n",
      "Epoch 77/100\n",
      "8000/8000 [==============================] - 1s 84us/step - loss: 0.3554 - acc: 0.8555\n",
      "Epoch 78/100\n",
      "8000/8000 [==============================] - 1s 83us/step - loss: 0.3530 - acc: 0.8525\n",
      "Epoch 79/100\n"
     ]
    },
    {
     "name": "stdout",
     "output_type": "stream",
     "text": [
      "8000/8000 [==============================] - 1s 83us/step - loss: 0.3505 - acc: 0.8530\n",
      "Epoch 80/100\n",
      "8000/8000 [==============================] - 1s 83us/step - loss: 0.3552 - acc: 0.8524\n",
      "Epoch 81/100\n",
      "8000/8000 [==============================] - 1s 83us/step - loss: 0.3524 - acc: 0.8525\n",
      "Epoch 82/100\n",
      "8000/8000 [==============================] - 1s 83us/step - loss: 0.3488 - acc: 0.8540\n",
      "Epoch 83/100\n",
      "8000/8000 [==============================] - 1s 83us/step - loss: 0.3517 - acc: 0.8524\n",
      "Epoch 84/100\n",
      "8000/8000 [==============================] - 1s 83us/step - loss: 0.3545 - acc: 0.8524\n",
      "Epoch 85/100\n",
      "8000/8000 [==============================] - 1s 85us/step - loss: 0.3523 - acc: 0.8525\n",
      "Epoch 86/100\n",
      "8000/8000 [==============================] - 1s 83us/step - loss: 0.3483 - acc: 0.8541\n",
      "Epoch 87/100\n",
      "8000/8000 [==============================] - 1s 83us/step - loss: 0.3500 - acc: 0.8530\n",
      "Epoch 88/100\n",
      "8000/8000 [==============================] - 1s 84us/step - loss: 0.3471 - acc: 0.8552\n",
      "Epoch 89/100\n",
      "8000/8000 [==============================] - 1s 83us/step - loss: 0.3476 - acc: 0.8539\n",
      "Epoch 90/100\n",
      "8000/8000 [==============================] - 1s 83us/step - loss: 0.3497 - acc: 0.8549\n",
      "Epoch 91/100\n",
      "8000/8000 [==============================] - 1s 83us/step - loss: 0.3552 - acc: 0.8527\n",
      "Epoch 92/100\n",
      "8000/8000 [==============================] - 1s 83us/step - loss: 0.3590 - acc: 0.8525\n",
      "Epoch 93/100\n",
      "8000/8000 [==============================] - 1s 83us/step - loss: 0.3520 - acc: 0.8549\n",
      "Epoch 94/100\n",
      "8000/8000 [==============================] - 1s 84us/step - loss: 0.3541 - acc: 0.8560\n",
      "Epoch 95/100\n",
      "8000/8000 [==============================] - 1s 83us/step - loss: 0.3475 - acc: 0.8544\n",
      "Epoch 96/100\n",
      "8000/8000 [==============================] - 1s 85us/step - loss: 0.3520 - acc: 0.8534\n",
      "Epoch 97/100\n",
      "8000/8000 [==============================] - 1s 84us/step - loss: 0.3498 - acc: 0.8551\n",
      "Epoch 98/100\n",
      "8000/8000 [==============================] - 1s 83us/step - loss: 0.3503 - acc: 0.8539\n",
      "Epoch 99/100\n",
      "8000/8000 [==============================] - 1s 83us/step - loss: 0.3465 - acc: 0.8550\n",
      "Epoch 100/100\n",
      "8000/8000 [==============================] - 1s 86us/step - loss: 0.3502 - acc: 0.8551\n"
     ]
    },
    {
     "data": {
      "text/plain": [
       "<keras.callbacks.History at 0x10e67b208>"
      ]
     },
     "execution_count": 15,
     "metadata": {},
     "output_type": "execute_result"
    }
   ],
   "source": [
    "classifier.fit(X_train, y_train, batch_size = 10, epochs = 100)"
   ]
  },
  {
   "cell_type": "markdown",
   "metadata": {},
   "source": [
    "## Prediction and results"
   ]
  },
  {
   "cell_type": "code",
   "execution_count": 16,
   "metadata": {},
   "outputs": [],
   "source": [
    "y_pred = classifier.predict(X_test)\n",
    "y_pred = y_pred > 0.5"
   ]
  },
  {
   "cell_type": "code",
   "execution_count": 17,
   "metadata": {},
   "outputs": [
    {
     "name": "stdout",
     "output_type": "stream",
     "text": [
      "Confusion matrix:\n",
      "[[1539   56]\n",
      " [ 223  182]]\n",
      "Accuracy: 86.05%\n"
     ]
    }
   ],
   "source": [
    "from sklearn.metrics import confusion_matrix, accuracy_score\n",
    "print(\"Confusion matrix:\")\n",
    "print(confusion_matrix(y_test, y_pred))\n",
    "print(\"Accuracy: {:.2f}%\".format(accuracy_score(y_test, y_pred)*100))"
   ]
  },
  {
   "cell_type": "markdown",
   "metadata": {
    "heading_collapsed": true
   },
   "source": [
    "# Homework"
   ]
  },
  {
   "cell_type": "code",
   "execution_count": 18,
   "metadata": {
    "hidden": true
   },
   "outputs": [
    {
     "name": "stdout",
     "output_type": "stream",
     "text": [
      "Will this person leave? No\n"
     ]
    }
   ],
   "source": [
    "test_case = [600, 'France', 'Male', 40, 3, 60000, 2, 1, 1, 50000]\n",
    "test_case[1] = labelEncoder1.transform(pd.Series(test_case[1]))\n",
    "test_case[2] = labelEncoder2.transform(pd.Series(test_case[2]))\n",
    "test_case = oneHotEncoder.transform(np.array(test_case).reshape(1, -1)).toarray()[0]\n",
    "test_case = test_case[1:]\n",
    "test_case = standardScaler.transform(test_case.reshape(1, -1))\n",
    "print(\"Will this person leave? {}\".format(\"Yes\" if (classifier.predict(test_case) > 0.5) else \"No\"))"
   ]
  },
  {
   "cell_type": "markdown",
   "metadata": {},
   "source": [
    "# Evaluating the model"
   ]
  },
  {
   "cell_type": "code",
   "execution_count": 19,
   "metadata": {},
   "outputs": [],
   "source": [
    "from keras.wrappers.scikit_learn import KerasClassifier\n",
    "from sklearn.model_selection import cross_val_score"
   ]
  },
  {
   "cell_type": "code",
   "execution_count": 20,
   "metadata": {},
   "outputs": [],
   "source": [
    "def build_classifier():\n",
    "    classifier = Sequential()\n",
    "    classifier.add(Dense(output_dim = 6, init = 'uniform', activation = 'relu', input_dim = 11))\n",
    "    classifier.add(Dense(output_dim = 6, init = 'uniform', activation = 'relu'))\n",
    "    classifier.add(Dense(output_dim = 1, init = 'uniform', activation = 'relu'))\n",
    "    classifier.compile(optimizer = 'adam', loss = 'binary_crossentropy', metrics = ['accuracy'])\n",
    "    return classifier"
   ]
  },
  {
   "cell_type": "code",
   "execution_count": 21,
   "metadata": {},
   "outputs": [
    {
     "name": "stderr",
     "output_type": "stream",
     "text": [
      "[Parallel(n_jobs=-1)]: Using backend LokyBackend with 8 concurrent workers.\n",
      "[Parallel(n_jobs=-1)]: Done   7 out of  10 | elapsed:  2.9min remaining:  1.2min\n",
      "[Parallel(n_jobs=-1)]: Done  10 out of  10 | elapsed:  4.1min finished\n"
     ]
    }
   ],
   "source": [
    "kerasClassifier = KerasClassifier(build_fn = build_classifier, batch_size = 10, epochs = 100)\n",
    "accuracies = cross_val_score(estimator = kerasClassifier, \n",
    "                             X = X_train, \n",
    "                             y = y_train, \n",
    "                             cv = 10,\n",
    "                             n_jobs = -1,\n",
    "                             verbose = 2,\n",
    "                             scoring = 'accuracy')"
   ]
  },
  {
   "cell_type": "code",
   "execution_count": 22,
   "metadata": {},
   "outputs": [
    {
     "name": "stdout",
     "output_type": "stream",
     "text": [
      "Mean accuracy: 0.84\n",
      "Variance accuracy: 0.02\n"
     ]
    }
   ],
   "source": [
    "print(\"Mean accuracy: {:.2f}\".format(accuracies.mean()))\n",
    "print(\"Variance accuracy: {:.2f}\".format(accuracies.std()))"
   ]
  },
  {
   "cell_type": "markdown",
   "metadata": {},
   "source": [
    "# Improving the model"
   ]
  },
  {
   "cell_type": "code",
   "execution_count": 23,
   "metadata": {},
   "outputs": [],
   "source": [
    "from keras.layers import Dropout\n",
    "from sklearn.model_selection import GridSearchCV"
   ]
  },
  {
   "cell_type": "code",
   "execution_count": 24,
   "metadata": {},
   "outputs": [],
   "source": [
    "def build_classifier_with_dropout(optimizer):\n",
    "    classifier = Sequential()\n",
    "    classifier.add(Dense(output_dim = 6, init = 'uniform', activation = 'relu', input_dim = 11))\n",
    "    classifier.add(Dropout(0.1))\n",
    "    classifier.add(Dense(output_dim = 6, init = 'uniform', activation = 'relu'))\n",
    "    classifier.add(Dropout(0.1))\n",
    "    classifier.add(Dense(output_dim = 1, init = 'uniform', activation = 'relu'))\n",
    "    classifier.compile(optimizer = optimizer, loss = 'binary_crossentropy', metrics = ['accuracy'])\n",
    "    return classifier"
   ]
  },
  {
   "cell_type": "code",
   "execution_count": 25,
   "metadata": {},
   "outputs": [
    {
     "name": "stdout",
     "output_type": "stream",
     "text": [
      "WARNING:tensorflow:From /Users/k.bhanot/Personal/Important Work/Deep Learning/Deep-Learning-A-Z-Coursework/lib/python3.7/site-packages/keras/backend/tensorflow_backend.py:3445: calling dropout (from tensorflow.python.ops.nn_ops) with keep_prob is deprecated and will be removed in a future version.\n",
      "Instructions for updating:\n",
      "Please use `rate` instead of `keep_prob`. Rate should be set to `rate = 1 - keep_prob`.\n",
      "Epoch 1/100\n",
      "8000/8000 [==============================] - 0s 59us/step - loss: 3.2881 - acc: 0.7960\n",
      "Epoch 2/100\n",
      "8000/8000 [==============================] - 0s 27us/step - loss: 3.2881 - acc: 0.7960\n",
      "Epoch 3/100\n",
      "8000/8000 [==============================] - 0s 27us/step - loss: 3.2881 - acc: 0.7960\n",
      "Epoch 4/100\n",
      "8000/8000 [==============================] - 0s 27us/step - loss: 3.2881 - acc: 0.7960\n",
      "Epoch 5/100\n",
      "8000/8000 [==============================] - 0s 27us/step - loss: 3.2881 - acc: 0.7960\n",
      "Epoch 6/100\n",
      "8000/8000 [==============================] - 0s 28us/step - loss: 3.2881 - acc: 0.7960\n",
      "Epoch 7/100\n",
      "8000/8000 [==============================] - 0s 27us/step - loss: 3.2881 - acc: 0.7960\n",
      "Epoch 8/100\n",
      "8000/8000 [==============================] - 0s 27us/step - loss: 3.2881 - acc: 0.7960\n",
      "Epoch 9/100\n",
      "8000/8000 [==============================] - 0s 27us/step - loss: 3.2881 - acc: 0.7960\n",
      "Epoch 10/100\n",
      "8000/8000 [==============================] - 0s 27us/step - loss: 3.2881 - acc: 0.7960\n",
      "Epoch 11/100\n",
      "8000/8000 [==============================] - 0s 27us/step - loss: 3.2881 - acc: 0.7960\n",
      "Epoch 12/100\n",
      "8000/8000 [==============================] - 0s 27us/step - loss: 3.2881 - acc: 0.7960\n",
      "Epoch 13/100\n",
      "8000/8000 [==============================] - 0s 27us/step - loss: 3.2881 - acc: 0.7960\n",
      "Epoch 14/100\n",
      "8000/8000 [==============================] - 0s 27us/step - loss: 3.2881 - acc: 0.7960\n",
      "Epoch 15/100\n",
      "8000/8000 [==============================] - 0s 27us/step - loss: 3.2881 - acc: 0.7960\n",
      "Epoch 16/100\n",
      "8000/8000 [==============================] - 0s 27us/step - loss: 3.2881 - acc: 0.7960\n",
      "Epoch 17/100\n",
      "8000/8000 [==============================] - 0s 27us/step - loss: 3.2881 - acc: 0.7960\n",
      "Epoch 18/100\n",
      "8000/8000 [==============================] - 0s 27us/step - loss: 3.2881 - acc: 0.7960\n",
      "Epoch 19/100\n",
      "8000/8000 [==============================] - 0s 27us/step - loss: 3.2881 - acc: 0.7960\n",
      "Epoch 20/100\n",
      "8000/8000 [==============================] - 0s 27us/step - loss: 3.2881 - acc: 0.7960\n",
      "Epoch 21/100\n",
      "8000/8000 [==============================] - 0s 27us/step - loss: 3.2881 - acc: 0.7960\n",
      "Epoch 22/100\n",
      "8000/8000 [==============================] - 0s 27us/step - loss: 3.2881 - acc: 0.7960\n",
      "Epoch 23/100\n",
      "8000/8000 [==============================] - 0s 27us/step - loss: 3.2881 - acc: 0.7960\n",
      "Epoch 24/100\n",
      "8000/8000 [==============================] - 0s 27us/step - loss: 3.2881 - acc: 0.7960\n",
      "Epoch 25/100\n",
      "8000/8000 [==============================] - 0s 27us/step - loss: 3.2881 - acc: 0.7960\n",
      "Epoch 26/100\n",
      "8000/8000 [==============================] - 0s 27us/step - loss: 3.2881 - acc: 0.7960\n",
      "Epoch 27/100\n",
      "8000/8000 [==============================] - 0s 27us/step - loss: 3.2881 - acc: 0.7960\n",
      "Epoch 28/100\n",
      "8000/8000 [==============================] - 0s 27us/step - loss: 3.2881 - acc: 0.7960\n",
      "Epoch 29/100\n",
      "8000/8000 [==============================] - 0s 27us/step - loss: 3.2881 - acc: 0.7960\n",
      "Epoch 30/100\n",
      "8000/8000 [==============================] - 0s 28us/step - loss: 3.2881 - acc: 0.7960\n",
      "Epoch 31/100\n",
      "8000/8000 [==============================] - 0s 28us/step - loss: 3.2881 - acc: 0.7960\n",
      "Epoch 32/100\n",
      "8000/8000 [==============================] - 0s 29us/step - loss: 3.2881 - acc: 0.7960\n",
      "Epoch 33/100\n",
      "8000/8000 [==============================] - 0s 28us/step - loss: 3.2881 - acc: 0.7960\n",
      "Epoch 34/100\n",
      "8000/8000 [==============================] - 0s 28us/step - loss: 3.2881 - acc: 0.7960\n",
      "Epoch 35/100\n",
      "8000/8000 [==============================] - 0s 28us/step - loss: 3.2881 - acc: 0.7960\n",
      "Epoch 36/100\n",
      "8000/8000 [==============================] - 0s 29us/step - loss: 3.2881 - acc: 0.7960\n",
      "Epoch 37/100\n",
      "8000/8000 [==============================] - 0s 28us/step - loss: 3.2881 - acc: 0.7960\n",
      "Epoch 38/100\n",
      "8000/8000 [==============================] - 0s 28us/step - loss: 3.2881 - acc: 0.7960\n",
      "Epoch 39/100\n",
      "8000/8000 [==============================] - 0s 28us/step - loss: 3.2881 - acc: 0.7960\n",
      "Epoch 40/100\n",
      "8000/8000 [==============================] - 0s 28us/step - loss: 3.2881 - acc: 0.7960\n",
      "Epoch 41/100\n",
      "8000/8000 [==============================] - 0s 28us/step - loss: 3.2881 - acc: 0.7960\n",
      "Epoch 42/100\n",
      "8000/8000 [==============================] - 0s 28us/step - loss: 3.2881 - acc: 0.7960\n",
      "Epoch 43/100\n",
      "8000/8000 [==============================] - 0s 28us/step - loss: 3.2881 - acc: 0.7960\n",
      "Epoch 44/100\n",
      "8000/8000 [==============================] - 0s 28us/step - loss: 3.2881 - acc: 0.7960\n",
      "Epoch 45/100\n",
      "8000/8000 [==============================] - 0s 28us/step - loss: 3.2881 - acc: 0.7960\n",
      "Epoch 46/100\n",
      "8000/8000 [==============================] - 0s 28us/step - loss: 3.2881 - acc: 0.7960\n",
      "Epoch 47/100\n",
      "8000/8000 [==============================] - 0s 28us/step - loss: 3.2881 - acc: 0.7960\n",
      "Epoch 48/100\n",
      "8000/8000 [==============================] - 0s 28us/step - loss: 3.2881 - acc: 0.7960\n",
      "Epoch 49/100\n",
      "8000/8000 [==============================] - 0s 28us/step - loss: 3.2881 - acc: 0.7960\n",
      "Epoch 50/100\n",
      "8000/8000 [==============================] - 0s 28us/step - loss: 3.2881 - acc: 0.7960\n",
      "Epoch 51/100\n",
      "8000/8000 [==============================] - 0s 28us/step - loss: 3.2881 - acc: 0.7960\n",
      "Epoch 52/100\n",
      "8000/8000 [==============================] - 0s 28us/step - loss: 3.2881 - acc: 0.7960\n",
      "Epoch 53/100\n",
      "8000/8000 [==============================] - 0s 28us/step - loss: 3.2881 - acc: 0.7960\n",
      "Epoch 54/100\n",
      "8000/8000 [==============================] - 0s 28us/step - loss: 3.2881 - acc: 0.7960\n",
      "Epoch 55/100\n",
      "8000/8000 [==============================] - 0s 28us/step - loss: 3.2881 - acc: 0.7960\n",
      "Epoch 56/100\n",
      "8000/8000 [==============================] - 0s 28us/step - loss: 3.2881 - acc: 0.7960\n",
      "Epoch 57/100\n",
      "8000/8000 [==============================] - 0s 28us/step - loss: 3.2881 - acc: 0.7960\n",
      "Epoch 58/100\n",
      "8000/8000 [==============================] - 0s 28us/step - loss: 3.2881 - acc: 0.7960\n",
      "Epoch 59/100\n",
      "8000/8000 [==============================] - 0s 28us/step - loss: 3.2881 - acc: 0.7960\n",
      "Epoch 60/100\n",
      "8000/8000 [==============================] - 0s 28us/step - loss: 3.2881 - acc: 0.7960\n",
      "Epoch 61/100\n",
      "8000/8000 [==============================] - 0s 28us/step - loss: 3.2881 - acc: 0.7960\n",
      "Epoch 62/100\n",
      "8000/8000 [==============================] - 0s 28us/step - loss: 3.2881 - acc: 0.7960\n",
      "Epoch 63/100\n",
      "8000/8000 [==============================] - 0s 28us/step - loss: 3.2881 - acc: 0.7960\n",
      "Epoch 64/100\n",
      "8000/8000 [==============================] - 0s 28us/step - loss: 3.2881 - acc: 0.7960\n",
      "Epoch 65/100\n",
      "8000/8000 [==============================] - 0s 28us/step - loss: 3.2881 - acc: 0.7960\n",
      "Epoch 66/100\n",
      "8000/8000 [==============================] - 0s 27us/step - loss: 3.2881 - acc: 0.7960\n",
      "Epoch 67/100\n",
      "8000/8000 [==============================] - 0s 27us/step - loss: 3.2881 - acc: 0.7960\n",
      "Epoch 68/100\n",
      "8000/8000 [==============================] - 0s 27us/step - loss: 3.2881 - acc: 0.7960\n",
      "Epoch 69/100\n",
      "8000/8000 [==============================] - 0s 27us/step - loss: 3.2881 - acc: 0.7960\n",
      "Epoch 70/100\n",
      "8000/8000 [==============================] - 0s 27us/step - loss: 3.2881 - acc: 0.7960\n",
      "Epoch 71/100\n",
      "8000/8000 [==============================] - 0s 27us/step - loss: 3.2881 - acc: 0.7960\n",
      "Epoch 72/100\n",
      "8000/8000 [==============================] - 0s 27us/step - loss: 3.2881 - acc: 0.7960\n",
      "Epoch 73/100\n",
      "8000/8000 [==============================] - 0s 27us/step - loss: 3.2881 - acc: 0.7960\n",
      "Epoch 74/100\n",
      "8000/8000 [==============================] - 0s 27us/step - loss: 3.2881 - acc: 0.7960\n",
      "Epoch 75/100\n",
      "8000/8000 [==============================] - 0s 27us/step - loss: 3.2881 - acc: 0.7960\n",
      "Epoch 76/100\n",
      "8000/8000 [==============================] - 0s 27us/step - loss: 3.2881 - acc: 0.7960\n",
      "Epoch 77/100\n",
      "8000/8000 [==============================] - 0s 27us/step - loss: 3.2881 - acc: 0.7960\n",
      "Epoch 78/100\n"
     ]
    },
    {
     "name": "stdout",
     "output_type": "stream",
     "text": [
      "8000/8000 [==============================] - 0s 27us/step - loss: 3.2881 - acc: 0.7960\n",
      "Epoch 79/100\n",
      "8000/8000 [==============================] - 0s 27us/step - loss: 3.2881 - acc: 0.7960\n",
      "Epoch 80/100\n",
      "8000/8000 [==============================] - 0s 27us/step - loss: 3.2881 - acc: 0.7960\n",
      "Epoch 81/100\n",
      "8000/8000 [==============================] - 0s 27us/step - loss: 3.2881 - acc: 0.7960\n",
      "Epoch 82/100\n",
      "8000/8000 [==============================] - 0s 27us/step - loss: 3.2881 - acc: 0.7960\n",
      "Epoch 83/100\n",
      "8000/8000 [==============================] - 0s 27us/step - loss: 3.2881 - acc: 0.7960\n",
      "Epoch 84/100\n",
      "8000/8000 [==============================] - 0s 27us/step - loss: 3.2881 - acc: 0.7960\n",
      "Epoch 85/100\n",
      "8000/8000 [==============================] - 0s 27us/step - loss: 3.2881 - acc: 0.7960\n",
      "Epoch 86/100\n",
      "8000/8000 [==============================] - 0s 27us/step - loss: 3.2881 - acc: 0.7960\n",
      "Epoch 87/100\n",
      "8000/8000 [==============================] - 0s 27us/step - loss: 3.2881 - acc: 0.7960\n",
      "Epoch 88/100\n",
      "8000/8000 [==============================] - 0s 28us/step - loss: 3.2881 - acc: 0.7960\n",
      "Epoch 89/100\n",
      "8000/8000 [==============================] - 0s 28us/step - loss: 3.2881 - acc: 0.7960\n",
      "Epoch 90/100\n",
      "8000/8000 [==============================] - 0s 28us/step - loss: 3.2881 - acc: 0.7960\n",
      "Epoch 91/100\n",
      "8000/8000 [==============================] - 0s 28us/step - loss: 3.2881 - acc: 0.7960\n",
      "Epoch 92/100\n",
      "8000/8000 [==============================] - 0s 29us/step - loss: 3.2881 - acc: 0.7960\n",
      "Epoch 93/100\n",
      "8000/8000 [==============================] - 0s 28us/step - loss: 3.2881 - acc: 0.7960\n",
      "Epoch 94/100\n",
      "8000/8000 [==============================] - 0s 28us/step - loss: 3.2881 - acc: 0.7960\n",
      "Epoch 95/100\n",
      "8000/8000 [==============================] - 0s 28us/step - loss: 3.2881 - acc: 0.7960\n",
      "Epoch 96/100\n",
      "8000/8000 [==============================] - 0s 28us/step - loss: 3.2881 - acc: 0.7960\n",
      "Epoch 97/100\n",
      "8000/8000 [==============================] - 0s 28us/step - loss: 3.2881 - acc: 0.7960\n",
      "Epoch 98/100\n",
      "8000/8000 [==============================] - 0s 28us/step - loss: 3.2881 - acc: 0.7960\n",
      "Epoch 99/100\n",
      "8000/8000 [==============================] - 0s 28us/step - loss: 3.2881 - acc: 0.7960\n",
      "Epoch 100/100\n",
      "8000/8000 [==============================] - 0s 28us/step - loss: 3.2881 - acc: 0.7960\n"
     ]
    }
   ],
   "source": [
    "kerasClassifier = KerasClassifier(build_fn = build_classifier_with_dropout)\n",
    "\n",
    "parameters = {\n",
    "    'batch_size': [25, 32],\n",
    "    'epochs': [100, 500],\n",
    "    'optimizer': ['adam', 'rmsprop']\n",
    "}\n",
    "\n",
    "gridSearch = GridSearchCV(estimator = kerasClassifier,\n",
    "                          param_grid = parameters,\n",
    "                          cv = 10,\n",
    "                          n_jobs = -1,\n",
    "                          scoring = 'accuracy')\n",
    "\n",
    "gridSearch = gridSearch.fit(X_train, y_train)"
   ]
  },
  {
   "cell_type": "code",
   "execution_count": 26,
   "metadata": {},
   "outputs": [
    {
     "name": "stdout",
     "output_type": "stream",
     "text": [
      "Best parameters: {'batch_size': 32, 'epochs': 100, 'optimizer': 'rmsprop'}\n",
      "Best score: 0.852875\n"
     ]
    }
   ],
   "source": [
    "print(\"Best parameters: {}\".format(gridSearch.best_params_))\n",
    "print(\"Best score: {}\".format(gridSearch.best_score_))"
   ]
  },
  {
   "cell_type": "markdown",
   "metadata": {},
   "source": [
    "# Model with best parameters"
   ]
  },
  {
   "cell_type": "code",
   "execution_count": 29,
   "metadata": {},
   "outputs": [
    {
     "name": "stdout",
     "output_type": "stream",
     "text": [
      "Epoch 1/100\n",
      "8000/8000 [==============================] - 1s 66us/step - loss: 0.5760 - acc: 0.7984\n",
      "Epoch 2/100\n",
      "8000/8000 [==============================] - 0s 29us/step - loss: 0.4295 - acc: 0.8048\n",
      "Epoch 3/100\n",
      "8000/8000 [==============================] - 0s 31us/step - loss: 0.4296 - acc: 0.8098\n",
      "Epoch 4/100\n",
      "8000/8000 [==============================] - 0s 27us/step - loss: 0.4142 - acc: 0.8113\n",
      "Epoch 5/100\n",
      "8000/8000 [==============================] - 0s 28us/step - loss: 0.4116 - acc: 0.8187\n",
      "Epoch 6/100\n",
      "8000/8000 [==============================] - 0s 29us/step - loss: 0.4015 - acc: 0.8223\n",
      "Epoch 7/100\n",
      "8000/8000 [==============================] - 0s 29us/step - loss: 0.4066 - acc: 0.8254\n",
      "Epoch 8/100\n",
      "8000/8000 [==============================] - 0s 28us/step - loss: 0.3977 - acc: 0.8285\n",
      "Epoch 9/100\n",
      "8000/8000 [==============================] - 0s 28us/step - loss: 0.3950 - acc: 0.8342\n",
      "Epoch 10/100\n",
      "8000/8000 [==============================] - 0s 28us/step - loss: 0.3954 - acc: 0.8335\n",
      "Epoch 11/100\n",
      "8000/8000 [==============================] - 0s 29us/step - loss: 0.3877 - acc: 0.8336\n",
      "Epoch 12/100\n",
      "8000/8000 [==============================] - 0s 29us/step - loss: 0.3882 - acc: 0.8303\n",
      "Epoch 13/100\n",
      "8000/8000 [==============================] - 0s 29us/step - loss: 0.3853 - acc: 0.8332\n",
      "Epoch 14/100\n",
      "8000/8000 [==============================] - 0s 29us/step - loss: 0.3812 - acc: 0.8336\n",
      "Epoch 15/100\n",
      "8000/8000 [==============================] - 0s 29us/step - loss: 0.3896 - acc: 0.8337\n",
      "Epoch 16/100\n",
      "8000/8000 [==============================] - 0s 29us/step - loss: 0.3899 - acc: 0.8306\n",
      "Epoch 17/100\n",
      "8000/8000 [==============================] - 0s 29us/step - loss: 0.3877 - acc: 0.8354\n",
      "Epoch 18/100\n",
      "8000/8000 [==============================] - 0s 30us/step - loss: 0.3872 - acc: 0.8299\n",
      "Epoch 19/100\n",
      "8000/8000 [==============================] - 0s 29us/step - loss: 0.3869 - acc: 0.8331\n",
      "Epoch 20/100\n",
      "8000/8000 [==============================] - 0s 30us/step - loss: 0.3920 - acc: 0.8304\n",
      "Epoch 21/100\n",
      "8000/8000 [==============================] - 0s 28us/step - loss: 0.3962 - acc: 0.8359\n",
      "Epoch 22/100\n",
      "8000/8000 [==============================] - 0s 29us/step - loss: 0.3921 - acc: 0.8300\n",
      "Epoch 23/100\n",
      "8000/8000 [==============================] - 0s 29us/step - loss: 0.3860 - acc: 0.8324\n",
      "Epoch 24/100\n",
      "8000/8000 [==============================] - 0s 30us/step - loss: 0.3834 - acc: 0.8340\n",
      "Epoch 25/100\n",
      "8000/8000 [==============================] - 0s 29us/step - loss: 0.3884 - acc: 0.8339\n",
      "Epoch 26/100\n",
      "8000/8000 [==============================] - 0s 29us/step - loss: 0.3950 - acc: 0.8311\n",
      "Epoch 27/100\n",
      "8000/8000 [==============================] - 0s 29us/step - loss: 0.3915 - acc: 0.8310\n",
      "Epoch 28/100\n",
      "8000/8000 [==============================] - 0s 29us/step - loss: 0.3940 - acc: 0.8314\n",
      "Epoch 29/100\n",
      "8000/8000 [==============================] - 0s 28us/step - loss: 0.3898 - acc: 0.8283\n",
      "Epoch 30/100\n",
      "8000/8000 [==============================] - 0s 30us/step - loss: 0.3974 - acc: 0.8289\n",
      "Epoch 31/100\n",
      "8000/8000 [==============================] - 0s 29us/step - loss: 0.3907 - acc: 0.8288\n",
      "Epoch 32/100\n",
      "8000/8000 [==============================] - 0s 29us/step - loss: 0.3927 - acc: 0.8293\n",
      "Epoch 33/100\n",
      "8000/8000 [==============================] - 0s 30us/step - loss: 0.3974 - acc: 0.8286\n",
      "Epoch 34/100\n",
      "8000/8000 [==============================] - 0s 31us/step - loss: 0.3830 - acc: 0.8303\n",
      "Epoch 35/100\n",
      "8000/8000 [==============================] - 0s 31us/step - loss: 0.3885 - acc: 0.8289\n",
      "Epoch 36/100\n",
      "8000/8000 [==============================] - 0s 33us/step - loss: 0.3922 - acc: 0.8350\n",
      "Epoch 37/100\n",
      "8000/8000 [==============================] - 0s 31us/step - loss: 0.3881 - acc: 0.8293\n",
      "Epoch 38/100\n",
      "8000/8000 [==============================] - 0s 31us/step - loss: 0.3927 - acc: 0.8288\n",
      "Epoch 39/100\n",
      "8000/8000 [==============================] - 0s 31us/step - loss: 0.3965 - acc: 0.8299\n",
      "Epoch 40/100\n",
      "8000/8000 [==============================] - 0s 30us/step - loss: 0.3946 - acc: 0.8290\n",
      "Epoch 41/100\n",
      "8000/8000 [==============================] - 0s 29us/step - loss: 0.3909 - acc: 0.8322\n",
      "Epoch 42/100\n",
      "8000/8000 [==============================] - 0s 29us/step - loss: 0.3927 - acc: 0.8300\n",
      "Epoch 43/100\n",
      "8000/8000 [==============================] - 0s 29us/step - loss: 0.3980 - acc: 0.8297\n",
      "Epoch 44/100\n",
      "8000/8000 [==============================] - 0s 31us/step - loss: 0.3939 - acc: 0.8255\n",
      "Epoch 45/100\n",
      "8000/8000 [==============================] - 0s 29us/step - loss: 0.3973 - acc: 0.8286\n",
      "Epoch 46/100\n",
      "8000/8000 [==============================] - 0s 29us/step - loss: 0.3880 - acc: 0.8342\n",
      "Epoch 47/100\n",
      "8000/8000 [==============================] - 0s 29us/step - loss: 0.3919 - acc: 0.8306\n",
      "Epoch 48/100\n",
      "8000/8000 [==============================] - 0s 30us/step - loss: 0.3868 - acc: 0.8332\n",
      "Epoch 49/100\n",
      "8000/8000 [==============================] - 0s 30us/step - loss: 0.3963 - acc: 0.8330\n",
      "Epoch 50/100\n",
      "8000/8000 [==============================] - 0s 30us/step - loss: 0.4000 - acc: 0.8299\n",
      "Epoch 51/100\n",
      "8000/8000 [==============================] - 0s 29us/step - loss: 0.3906 - acc: 0.8309\n",
      "Epoch 52/100\n",
      "8000/8000 [==============================] - 0s 30us/step - loss: 0.3969 - acc: 0.8304\n",
      "Epoch 53/100\n",
      "8000/8000 [==============================] - 0s 30us/step - loss: 0.3878 - acc: 0.8331\n",
      "Epoch 54/100\n",
      "8000/8000 [==============================] - 0s 29us/step - loss: 0.3934 - acc: 0.8342\n",
      "Epoch 55/100\n",
      "8000/8000 [==============================] - 0s 29us/step - loss: 0.4062 - acc: 0.8277\n",
      "Epoch 56/100\n",
      "8000/8000 [==============================] - 0s 30us/step - loss: 0.3991 - acc: 0.8322\n",
      "Epoch 57/100\n",
      "8000/8000 [==============================] - 0s 29us/step - loss: 0.4023 - acc: 0.8299\n",
      "Epoch 58/100\n",
      "8000/8000 [==============================] - 0s 29us/step - loss: 0.4016 - acc: 0.8327\n",
      "Epoch 59/100\n",
      "8000/8000 [==============================] - 0s 29us/step - loss: 0.4092 - acc: 0.8320\n",
      "Epoch 60/100\n",
      "8000/8000 [==============================] - 0s 29us/step - loss: 0.4056 - acc: 0.8290\n",
      "Epoch 61/100\n",
      "8000/8000 [==============================] - 0s 29us/step - loss: 0.4087 - acc: 0.8304\n",
      "Epoch 62/100\n",
      "8000/8000 [==============================] - 0s 29us/step - loss: 0.3935 - acc: 0.8316\n",
      "Epoch 63/100\n",
      "8000/8000 [==============================] - 0s 28us/step - loss: 0.4000 - acc: 0.8310\n",
      "Epoch 64/100\n",
      "8000/8000 [==============================] - 0s 29us/step - loss: 0.4164 - acc: 0.8284\n",
      "Epoch 65/100\n",
      "8000/8000 [==============================] - 0s 29us/step - loss: 0.4020 - acc: 0.8299\n",
      "Epoch 66/100\n",
      "8000/8000 [==============================] - 0s 30us/step - loss: 0.3955 - acc: 0.8294\n",
      "Epoch 67/100\n",
      "8000/8000 [==============================] - 0s 28us/step - loss: 0.4048 - acc: 0.8276\n",
      "Epoch 68/100\n",
      "8000/8000 [==============================] - 0s 29us/step - loss: 0.3977 - acc: 0.8303\n",
      "Epoch 69/100\n",
      "8000/8000 [==============================] - 0s 30us/step - loss: 0.4037 - acc: 0.8279\n",
      "Epoch 70/100\n",
      "8000/8000 [==============================] - 0s 30us/step - loss: 0.4053 - acc: 0.8299\n",
      "Epoch 71/100\n",
      "8000/8000 [==============================] - 0s 28us/step - loss: 0.4014 - acc: 0.8300\n",
      "Epoch 72/100\n",
      "8000/8000 [==============================] - 0s 29us/step - loss: 0.4046 - acc: 0.8307\n",
      "Epoch 73/100\n",
      "8000/8000 [==============================] - 0s 29us/step - loss: 0.4041 - acc: 0.8300\n",
      "Epoch 74/100\n",
      "8000/8000 [==============================] - 0s 29us/step - loss: 0.4089 - acc: 0.8284\n",
      "Epoch 75/100\n",
      "8000/8000 [==============================] - 0s 29us/step - loss: 0.4123 - acc: 0.8275\n",
      "Epoch 76/100\n",
      "8000/8000 [==============================] - 0s 29us/step - loss: 0.4114 - acc: 0.8269\n",
      "Epoch 77/100\n",
      "8000/8000 [==============================] - 0s 28us/step - loss: 0.4060 - acc: 0.8288\n",
      "Epoch 78/100\n",
      "8000/8000 [==============================] - 0s 29us/step - loss: 0.4185 - acc: 0.8272\n",
      "Epoch 79/100\n",
      "8000/8000 [==============================] - 0s 30us/step - loss: 0.4103 - acc: 0.8285\n",
      "Epoch 80/100\n",
      "8000/8000 [==============================] - 0s 28us/step - loss: 0.4115 - acc: 0.8243\n",
      "Epoch 81/100\n",
      "8000/8000 [==============================] - 0s 28us/step - loss: 0.4164 - acc: 0.8262\n",
      "Epoch 82/100\n",
      "8000/8000 [==============================] - 0s 30us/step - loss: 0.3992 - acc: 0.8283\n",
      "Epoch 83/100\n"
     ]
    },
    {
     "name": "stdout",
     "output_type": "stream",
     "text": [
      "8000/8000 [==============================] - 0s 29us/step - loss: 0.4087 - acc: 0.8284\n",
      "Epoch 84/100\n",
      "8000/8000 [==============================] - 0s 28us/step - loss: 0.4056 - acc: 0.8269\n",
      "Epoch 85/100\n",
      "8000/8000 [==============================] - 0s 28us/step - loss: 0.4197 - acc: 0.8243\n",
      "Epoch 86/100\n",
      "8000/8000 [==============================] - 0s 28us/step - loss: 0.4037 - acc: 0.8288\n",
      "Epoch 87/100\n",
      "8000/8000 [==============================] - 0s 28us/step - loss: 0.4123 - acc: 0.8265\n",
      "Epoch 88/100\n",
      "8000/8000 [==============================] - 0s 28us/step - loss: 0.4069 - acc: 0.8281\n",
      "Epoch 89/100\n",
      "8000/8000 [==============================] - 0s 28us/step - loss: 0.4148 - acc: 0.8250\n",
      "Epoch 90/100\n",
      "8000/8000 [==============================] - 0s 28us/step - loss: 0.4111 - acc: 0.8256\n",
      "Epoch 91/100\n",
      "8000/8000 [==============================] - 0s 29us/step - loss: 0.4105 - acc: 0.8262\n",
      "Epoch 92/100\n",
      "8000/8000 [==============================] - 0s 30us/step - loss: 0.3980 - acc: 0.8237\n",
      "Epoch 93/100\n",
      "8000/8000 [==============================] - 0s 28us/step - loss: 0.4044 - acc: 0.8267\n",
      "Epoch 94/100\n",
      "8000/8000 [==============================] - 0s 29us/step - loss: 0.4069 - acc: 0.8246\n",
      "Epoch 95/100\n",
      "8000/8000 [==============================] - 0s 30us/step - loss: 0.4109 - acc: 0.8269\n",
      "Epoch 96/100\n",
      "8000/8000 [==============================] - 0s 28us/step - loss: 0.4136 - acc: 0.8265\n",
      "Epoch 97/100\n",
      "8000/8000 [==============================] - 0s 28us/step - loss: 0.3982 - acc: 0.8264\n",
      "Epoch 98/100\n",
      "8000/8000 [==============================] - 0s 29us/step - loss: 0.4062 - acc: 0.8259\n",
      "Epoch 99/100\n",
      "8000/8000 [==============================] - 0s 28us/step - loss: 0.4124 - acc: 0.8250\n",
      "Epoch 100/100\n",
      "8000/8000 [==============================] - 0s 28us/step - loss: 0.3978 - acc: 0.8266\n"
     ]
    },
    {
     "data": {
      "text/plain": [
       "<keras.callbacks.History at 0x13bd46f60>"
      ]
     },
     "execution_count": 29,
     "metadata": {},
     "output_type": "execute_result"
    }
   ],
   "source": [
    "final_classifier = build_classifier_with_dropout(gridSearch.best_params_['optimizer'])\n",
    "final_classifier.fit(X_train, \n",
    "                     y_train, \n",
    "                     batch_size = gridSearch.best_params_['batch_size'], \n",
    "                     epochs = gridSearch.best_params_['epochs'])"
   ]
  },
  {
   "cell_type": "code",
   "execution_count": 30,
   "metadata": {},
   "outputs": [
    {
     "name": "stdout",
     "output_type": "stream",
     "text": [
      "Confusion matrix:\n",
      "[[1552   43]\n",
      " [ 233  172]]\n",
      "Accuracy: 86.20%\n"
     ]
    }
   ],
   "source": [
    "y_pred = final_classifier.predict(X_test)\n",
    "y_pred = y_pred > 0.5\n",
    "print(\"Confusion matrix:\")\n",
    "print(confusion_matrix(y_test, y_pred))\n",
    "print(\"Accuracy: {:.2f}%\".format(accuracy_score(y_test, y_pred)*100))"
   ]
  }
 ],
 "metadata": {
  "kernelspec": {
   "display_name": "Python 3",
   "language": "python",
   "name": "python3"
  },
  "language_info": {
   "codemirror_mode": {
    "name": "ipython",
    "version": 3
   },
   "file_extension": ".py",
   "mimetype": "text/x-python",
   "name": "python",
   "nbconvert_exporter": "python",
   "pygments_lexer": "ipython3",
   "version": "3.7.2"
  }
 },
 "nbformat": 4,
 "nbformat_minor": 2
}
